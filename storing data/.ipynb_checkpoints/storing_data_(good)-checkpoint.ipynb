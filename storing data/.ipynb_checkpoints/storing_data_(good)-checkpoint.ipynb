{
 "cells": [
  {
   "attachments": {},
   "cell_type": "markdown",
   "id": "123456",
   "metadata": {},
   "source": [
    "<div style=\"text-align:left;font-size:2em\"><span style=\"font-weight:bolder;font-size:1.25em\">SP2273 | Learning Portfolio</span><br><br><span style=\"font-weight:bold;color:darkred\">Storing Data (Good)</span></div>"
   ]
  },
  {
   "attachments": {},
   "cell_type": "markdown",
   "id": "901d9df1",
   "metadata": {},
   "source": [
    "# What to expect in this chapter"
   ]
  },
  {
   "attachments": {},
   "cell_type": "markdown",
   "id": "8a426de5",
   "metadata": {},
   "source": [
    "# 1 Subsetting: Indexing and Slicing"
   ]
  },
  {
   "attachments": {},
   "cell_type": "markdown",
   "id": "77423d89",
   "metadata": {},
   "source": [
    "## 1.1 Lists & Arrays in 1D | Subsetting & Indexing"
   ]
  },
  {
   "cell_type": "code",
   "execution_count": 3,
   "id": "6ee61837-e251-4567-ad25-dcd0f72c42c2",
   "metadata": {},
   "outputs": [
    {
     "data": {
      "text/plain": [
       "array(['j10', 'i9', 'h8', 'g7', 'f6', 'e5', 'd4', 'c3', 'b2', 'a1'],\n",
       "      dtype='<U3')"
      ]
     },
     "execution_count": 3,
     "metadata": {},
     "output_type": "execute_result"
    }
   ],
   "source": [
    "import numpy as np\n",
    "py_list=[\"a1\", \"b2\", \"c3\", \"d4\", \"e5\",\n",
    "         \"f6\", \"g7\", \"h8\", \"i9\", \"j10\"]\n",
    "np_array=np.array(py_list)\n",
    "x = np_array\n",
    "\n",
    "x[0]    #first element\n",
    "x[-1]   #last element\n",
    "x[0:3]  # element from index 0-2\n",
    "x[1:6]  # element from index 1 - 5\n",
    "x[1:6:2] # element from indeex 1-5 in steps of 2\n",
    "x[5:]    # element from index 5 to end\n",
    "x[:5]    # element from index 0 -5\n",
    "x[5:2:-1] # element from index 5 to 3 in reverse]\n",
    "x[::-1] # reverse the list"
   ]
  },
  {
   "cell_type": "code",
   "execution_count": 4,
   "id": "84eeadaa-173a-4db8-b02a-483dff298295",
   "metadata": {},
   "outputs": [
    {
     "data": {
      "text/plain": [
       "['j10', 'i9', 'h8', 'g7', 'f6', 'e5', 'd4', 'c3', 'b2', 'a1']"
      ]
     },
     "execution_count": 4,
     "metadata": {},
     "output_type": "execute_result"
    }
   ],
   "source": [
    "py_list=[\"a1\", \"b2\", \"c3\", \"d4\", \"e5\",\n",
    "         \"f6\", \"g7\", \"h8\", \"i9\", \"j10\"]\n",
    "np_array=np.array(py_list)\n",
    "\n",
    "x = py_list \n",
    "x[0]    #first element\n",
    "x[-1]   #last element\n",
    "x[0:3]  # element from index 0-2\n",
    "x[1:6]  # element from index 1 - 5\n",
    "x[1:6:2] # element from indeex 1-5 in steps of 2\n",
    "x[5:]    # element from index 5 to end\n",
    "x[:5]    # element from index 0 -5\n",
    "x[5:2:-1] # element from index 5 to 3 in reverse]\n",
    "x[::-1] # reverse the list"
   ]
  },
  {
   "attachments": {},
   "cell_type": "markdown",
   "id": "3161b083",
   "metadata": {},
   "source": [
    "## 1.2 Arrays only | Subsetting by masking"
   ]
  },
  {
   "cell_type": "code",
   "execution_count": 5,
   "id": "c80f5b03-371e-4d6f-af0c-c270632dc66e",
   "metadata": {},
   "outputs": [
    {
     "data": {
      "text/plain": [
       "array([ 4,  5,  6,  7,  8,  9, 10])"
      ]
     },
     "execution_count": 5,
     "metadata": {},
     "output_type": "execute_result"
    }
   ],
   "source": [
    "np_array = np.array([1, 2, 3, 4, 5, 6, 7, 8, 9, 10])\n",
    "my_mask = np_array > 3\n",
    "np_array[my_mask] # creates an array that contains elements > 3"
   ]
  },
  {
   "cell_type": "code",
   "execution_count": 10,
   "id": "b2d134cd-3ae4-4af1-93b2-b7e921acb391",
   "metadata": {},
   "outputs": [
    {
     "data": {
      "text/plain": [
       "array([ 4,  5,  6,  7,  8,  9, 10])"
      ]
     },
     "execution_count": 10,
     "metadata": {},
     "output_type": "execute_result"
    }
   ],
   "source": [
    "np_array[np_array > 3] # creates an array that contains elements > 3"
   ]
  },
  {
   "cell_type": "code",
   "execution_count": 12,
   "id": "6104b3e0-c8da-4aa9-af6c-91cd9c3685b7",
   "metadata": {},
   "outputs": [
    {
     "data": {
      "text/plain": [
       "array([1, 2, 3])"
      ]
     },
     "execution_count": 12,
     "metadata": {},
     "output_type": "execute_result"
    }
   ],
   "source": [
    "np_array[~(np_array > 3)]                 # creating an array that contains elements not greater than 3"
   ]
  },
  {
   "cell_type": "code",
   "execution_count": 13,
   "id": "3f7ff1a0-43d7-435d-8fdb-9893c422e326",
   "metadata": {},
   "outputs": [
    {
     "data": {
      "text/plain": [
       "array([4, 5, 6, 7])"
      ]
     },
     "execution_count": 13,
     "metadata": {},
     "output_type": "execute_result"
    }
   ],
   "source": [
    "np_array[(np_array > 3) & (np_array < 8)] # creating an array that contains elements greater than 3 and less than 8"
   ]
  },
  {
   "cell_type": "code",
   "execution_count": 14,
   "id": "ae2a9425-f003-40e9-9d85-61af62a45bde",
   "metadata": {},
   "outputs": [
    {
     "data": {
      "text/plain": [
       "array([ 1,  2,  9, 10])"
      ]
     },
     "execution_count": 14,
     "metadata": {},
     "output_type": "execute_result"
    }
   ],
   "source": [
    "np_array[(np_array < 3) | (np_array > 8)]  # creating an array that contains elements less than 3 or greater than 8"
   ]
  },
  {
   "cell_type": "code",
   "execution_count": 15,
   "id": "b61ec9cd-74d5-48de-a558-d1e33adccb05",
   "metadata": {},
   "outputs": [
    {
     "data": {
      "text/plain": [
       "array([ 1,  8,  9, 10])"
      ]
     },
     "execution_count": 15,
     "metadata": {},
     "output_type": "execute_result"
    }
   ],
   "source": [
    "np_array[(np_array < 2) | (np_array > 7)] # creating an array that contains elements less than 2 or greater than 7"
   ]
  },
  {
   "attachments": {},
   "cell_type": "markdown",
   "id": "d6de3152",
   "metadata": {},
   "source": [
    "## 1.3 Lists & Arrays in 2D | Indexing & Slicing"
   ]
  },
  {
   "cell_type": "code",
   "execution_count": 17,
   "id": "2f48cbd8-f059-4ffb-b73c-1f4ed1c403f8",
   "metadata": {},
   "outputs": [],
   "source": [
    "import numpy as np\n",
    "py_list_2d = [[1, \"A\"], [2, \"B\"], [3, \"C\"], [4, \"D\"],\n",
    "              [5, \"E\"], [6, \"F\"], [7, \"G\"], [8, \"H\"],\n",
    "              [9, \"I\"], [10, \"J\"]]\n",
    "\n",
    "np_array_2d = np.array(py_list_2d)"
   ]
  },
  {
   "cell_type": "code",
   "execution_count": 18,
   "id": "02a3c4a4-f8e9-4813-bff7-a7ddc2768256",
   "metadata": {},
   "outputs": [
    {
     "data": {
      "text/plain": [
       "[4, 'D']"
      ]
     },
     "execution_count": 18,
     "metadata": {},
     "output_type": "execute_result"
    }
   ],
   "source": [
    "py_list_2d[3] # element at index 3"
   ]
  },
  {
   "cell_type": "code",
   "execution_count": 19,
   "id": "2afa4688-2656-435c-9d07-a1465b2c5366",
   "metadata": {},
   "outputs": [
    {
     "data": {
      "text/plain": [
       "array(['4', 'D'], dtype='<U11')"
      ]
     },
     "execution_count": 19,
     "metadata": {},
     "output_type": "execute_result"
    }
   ],
   "source": [
    "np_array_2d[3]  # element at index 3"
   ]
  },
  {
   "cell_type": "code",
   "execution_count": 20,
   "id": "c1c893b9-42e3-4e26-a141-d304703c0c81",
   "metadata": {},
   "outputs": [
    {
     "data": {
      "text/plain": [
       "4"
      ]
     },
     "execution_count": 20,
     "metadata": {},
     "output_type": "execute_result"
    }
   ],
   "source": [
    "py_list_2d[3][0] # 2nd element at index 3"
   ]
  },
  {
   "cell_type": "code",
   "execution_count": 21,
   "id": "68b48455-5893-4849-a84f-e759b45d57b7",
   "metadata": {},
   "outputs": [
    {
     "data": {
      "text/plain": [
       "'4'"
      ]
     },
     "execution_count": 21,
     "metadata": {},
     "output_type": "execute_result"
    }
   ],
   "source": [
    "np_array_2d[3, 0] # 2nd element at index 3"
   ]
  },
  {
   "cell_type": "code",
   "execution_count": 22,
   "id": "8567853f-d920-4013-8963-b4307cf58165",
   "metadata": {},
   "outputs": [
    {
     "data": {
      "text/plain": [
       "[[1, 'A'], [2, 'B'], [3, 'C']]"
      ]
     },
     "execution_count": 22,
     "metadata": {},
     "output_type": "execute_result"
    }
   ],
   "source": [
    "py_list_2d[:3] # listing first 3 elements"
   ]
  },
  {
   "cell_type": "code",
   "execution_count": 23,
   "id": "6e9cbbcf-108b-4dd1-af36-40809ff0d6d6",
   "metadata": {},
   "outputs": [
    {
     "data": {
      "text/plain": [
       "array([['1', 'A'],\n",
       "       ['2', 'B'],\n",
       "       ['3', 'C']], dtype='<U11')"
      ]
     },
     "execution_count": 23,
     "metadata": {},
     "output_type": "execute_result"
    }
   ],
   "source": [
    "np_array_2d[:3] # create an array for the first 3 elements"
   ]
  },
  {
   "cell_type": "code",
   "execution_count": 25,
   "id": "41f75d55-4b18-4041-9e62-4a1611d231c9",
   "metadata": {},
   "outputs": [
    {
     "data": {
      "text/plain": [
       "[1, 'A']"
      ]
     },
     "execution_count": 25,
     "metadata": {},
     "output_type": "execute_result"
    }
   ],
   "source": [
    "py_list_2d[:3][0]  # first element from the list of py_list_2d[:3]"
   ]
  },
  {
   "cell_type": "code",
   "execution_count": 27,
   "id": "19a808e1-3bea-460b-bc31-ac0b977b1e05",
   "metadata": {},
   "outputs": [
    {
     "data": {
      "text/plain": [
       "array(['1', '2', '3'], dtype='<U11')"
      ]
     },
     "execution_count": 27,
     "metadata": {},
     "output_type": "execute_result"
    }
   ],
   "source": [
    "np_array_2d[:3, 0] # creates an array containing the first element for the first 3 indexes"
   ]
  },
  {
   "cell_type": "code",
   "execution_count": 29,
   "id": "35478e56-4ba1-4333-8597-3317d7018345",
   "metadata": {},
   "outputs": [
    {
     "data": {
      "text/plain": [
       "[4, 'D']"
      ]
     },
     "execution_count": 29,
     "metadata": {},
     "output_type": "execute_result"
    }
   ],
   "source": [
    "py_list_2d[3:6][0]  #the first element in a list containing  index 3 to 6"
   ]
  },
  {
   "cell_type": "code",
   "execution_count": 30,
   "id": "a9c318a2-758d-4482-a0f6-46e3035716b1",
   "metadata": {},
   "outputs": [
    {
     "data": {
      "text/plain": [
       "array(['4', '5', '6'], dtype='<U11')"
      ]
     },
     "execution_count": 30,
     "metadata": {},
     "output_type": "execute_result"
    }
   ],
   "source": [
    "np_array_2d[3:6, 0]  #creates an array of the first element of index 3 to 6"
   ]
  },
  {
   "cell_type": "code",
   "execution_count": 31,
   "id": "f5eafb91-f05f-4f98-a203-6544fa52ae39",
   "metadata": {},
   "outputs": [
    {
     "data": {
      "text/plain": [
       "array(['1', '2', '3', '4', '5', '6', '7', '8', '9', '10'], dtype='<U11')"
      ]
     },
     "execution_count": 31,
     "metadata": {},
     "output_type": "execute_result"
    }
   ],
   "source": [
    "np_array_2d[:, 0] # creates an array that contains all the first elements from index 0 to 9"
   ]
  },
  {
   "attachments": {},
   "cell_type": "markdown",
   "id": "ee720289",
   "metadata": {},
   "source": [
    "## 1.4 Growing lists"
   ]
  },
  {
   "cell_type": "code",
   "execution_count": 3,
   "id": "c81b471e-58f9-49e5-9609-91d693e98bc4",
   "metadata": {},
   "outputs": [
    {
     "data": {
      "text/plain": [
       "[1, 2, 1, 2, 1, 2, 1, 2, 1, 2]"
      ]
     },
     "execution_count": 3,
     "metadata": {},
     "output_type": "execute_result"
    }
   ],
   "source": [
    "x = [1,2]*5  # creates a list that contains 5 pairs of 1,2\n",
    "x"
   ]
  },
  {
   "cell_type": "code",
   "execution_count": 4,
   "id": "c4d7869d-7fc2-4f9b-b1ef-5b5316633eb4",
   "metadata": {},
   "outputs": [
    {
     "data": {
      "text/plain": [
       "[2, 3, 2, 3, 2, 3, 2, 3, 2, 3, 2, 3, 2, 3, 2, 3, 2, 3, 2, 3]"
      ]
     },
     "execution_count": 4,
     "metadata": {},
     "output_type": "execute_result"
    }
   ],
   "source": [
    "x = [2,3]*10 # creates a list that contains 10 pairs of 2,3\n",
    "x"
   ]
  },
  {
   "cell_type": "code",
   "execution_count": 6,
   "id": "20839352-9630-44bf-8f4f-e65d93b8e58d",
   "metadata": {},
   "outputs": [
    {
     "data": {
      "text/plain": [
       "[1, 2, 3, 4]"
      ]
     },
     "execution_count": 6,
     "metadata": {},
     "output_type": "execute_result"
    }
   ],
   "source": [
    "x=[1]           #growing a list by appending one element at a time\n",
    "x= x + [2]\n",
    "x= x + [3]\n",
    "x= x + [4]\n",
    "x"
   ]
  },
  {
   "cell_type": "code",
   "execution_count": 11,
   "id": "13046edf-b438-41dc-a8d4-a4e337b102f5",
   "metadata": {},
   "outputs": [
    {
     "data": {
      "text/plain": [
       "[1, 2, 3, 4]"
      ]
     },
     "execution_count": 11,
     "metadata": {},
     "output_type": "execute_result"
    }
   ],
   "source": [
    "x=[1]       #growing a list by appending one element at a time \n",
    "x+= [2]\n",
    "x+= [3]\n",
    "x+= [4]\n",
    "x"
   ]
  },
  {
   "cell_type": "code",
   "execution_count": 10,
   "id": "0027928e-0d43-49c0-ba70-15730b4bb722",
   "metadata": {},
   "outputs": [
    {
     "data": {
      "text/plain": [
       "[3, 4, 5, 6]"
      ]
     },
     "execution_count": 10,
     "metadata": {},
     "output_type": "execute_result"
    }
   ],
   "source": [
    "x=[3]\n",
    "x+= [4]\n",
    "x+= [5]\n",
    "x+= [6]\n",
    "x"
   ]
  },
  {
   "cell_type": "code",
   "execution_count": 12,
   "id": "31573fa2-ff82-446c-85d1-836427ec7a41",
   "metadata": {},
   "outputs": [
    {
     "data": {
      "text/plain": [
       "[1, 2, 3, 4]"
      ]
     },
     "execution_count": 12,
     "metadata": {},
     "output_type": "execute_result"
    }
   ],
   "source": [
    "x=[1]           #growing a list by appending one element at a time \n",
    "x.append(2)\n",
    "x.append(3)\n",
    "x.append(4)\n",
    "x"
   ]
  },
  {
   "cell_type": "code",
   "execution_count": 14,
   "id": "6cab5ca2-3aec-461c-ac7f-3111d74cdd99",
   "metadata": {},
   "outputs": [
    {
     "data": {
      "text/plain": [
       "[1, 5, 4, 3]"
      ]
     },
     "execution_count": 14,
     "metadata": {},
     "output_type": "execute_result"
    }
   ],
   "source": [
    "x=[1]\n",
    "x.append(5)\n",
    "x.append(4)\n",
    "x.append(3)\n",
    "x"
   ]
  },
  {
   "cell_type": "code",
   "execution_count": 15,
   "id": "22741571-ca78-49c0-a2e9-f0a3803202b8",
   "metadata": {},
   "outputs": [
    {
     "data": {
      "text/plain": [
       "[1, 2, 3, 4, 5, 6]"
      ]
     },
     "execution_count": 15,
     "metadata": {},
     "output_type": "execute_result"
    }
   ],
   "source": [
    "x = [1, 2, 3]\n",
    "x += [4, 5, 6]\n",
    "x"
   ]
  },
  {
   "cell_type": "code",
   "execution_count": 16,
   "id": "e3356c7d-2992-4349-9a39-3535cd0080e6",
   "metadata": {},
   "outputs": [
    {
     "data": {
      "text/plain": [
       "[1, 2, 3, 9, 8, 7]"
      ]
     },
     "execution_count": 16,
     "metadata": {},
     "output_type": "execute_result"
    }
   ],
   "source": [
    "x = [1, 2, 3]\n",
    "x += [9, 8, 7]\n",
    "x"
   ]
  },
  {
   "cell_type": "code",
   "execution_count": 17,
   "id": "96f516d9-af0d-49ec-8e9d-fc801d0c07a6",
   "metadata": {},
   "outputs": [
    {
     "data": {
      "text/plain": [
       "[1, 2, 3, 4, 5, 6]"
      ]
     },
     "execution_count": 17,
     "metadata": {},
     "output_type": "execute_result"
    }
   ],
   "source": [
    "x=[1, 2, 3]            #.extend adds each elements individually to the end of the list, hence extending the list\n",
    "x.extend([4, 5, 6])\n",
    "x"
   ]
  },
  {
   "cell_type": "code",
   "execution_count": 18,
   "id": "a43fa6fe-c5d0-47af-bf7e-c7665d421de2",
   "metadata": {},
   "outputs": [
    {
     "data": {
      "text/plain": [
       "[1, 2, 3, 5, 8, 8]"
      ]
     },
     "execution_count": 18,
     "metadata": {},
     "output_type": "execute_result"
    }
   ],
   "source": [
    "x=[1, 2, 3]\n",
    "x.extend([5, 8, 8])\n",
    "x"
   ]
  },
  {
   "cell_type": "code",
   "execution_count": 19,
   "id": "717eb170-ed4d-4046-892c-397e272f7210",
   "metadata": {},
   "outputs": [
    {
     "data": {
      "text/plain": [
       "[1, 2, 3, [4, 5, 6]]"
      ]
     },
     "execution_count": 19,
     "metadata": {},
     "output_type": "execute_result"
    }
   ],
   "source": [
    "x=[1, 2, 3]               #.append takes [4,5,6] as a single element and adds it to the list\n",
    "x.append([4, 5, 6])\n",
    "x"
   ]
  },
  {
   "cell_type": "code",
   "execution_count": 20,
   "id": "c9e305dc-cb9e-45aa-8b6f-f7b93d1c2c44",
   "metadata": {},
   "outputs": [
    {
     "data": {
      "text/plain": [
       "[1, 2, 3, [3, 3, 3]]"
      ]
     },
     "execution_count": 20,
     "metadata": {},
     "output_type": "execute_result"
    }
   ],
   "source": [
    "x=[1, 2, 3]\n",
    "x.append([3, 3, 3])\n",
    "x"
   ]
  },
  {
   "attachments": {},
   "cell_type": "markdown",
   "id": "183552be",
   "metadata": {},
   "source": [
    "# Some loose ends"
   ]
  },
  {
   "attachments": {},
   "cell_type": "markdown",
   "id": "74e61fae",
   "metadata": {},
   "source": [
    "## 1.5 Tuples"
   ]
  },
  {
   "cell_type": "code",
   "execution_count": 22,
   "id": "d1665be5-310f-4a5c-b990-f06dcf46c9e8",
   "metadata": {},
   "outputs": [
    {
     "name": "stdout",
     "output_type": "stream",
     "text": [
      "1\n"
     ]
    }
   ],
   "source": [
    "a=(1, 2, 3)     # Define tuple\n",
    "print(a[0])    # Access data at index 0\n"
   ]
  },
  {
   "cell_type": "code",
   "execution_count": 24,
   "id": "d2c889a7-91d8-4b7a-9b55-3a12492b47bf",
   "metadata": {},
   "outputs": [
    {
     "ename": "TypeError",
     "evalue": "'tuple' object does not support item assignment",
     "output_type": "error",
     "traceback": [
      "\u001b[1;31m---------------------------------------------------------------------------\u001b[0m",
      "\u001b[1;31mTypeError\u001b[0m                                 Traceback (most recent call last)",
      "Cell \u001b[1;32mIn[24], line 2\u001b[0m\n\u001b[0;32m      1\u001b[0m a\u001b[38;5;241m=\u001b[39m(\u001b[38;5;241m1\u001b[39m, \u001b[38;5;241m2\u001b[39m, \u001b[38;5;241m3\u001b[39m)  \u001b[38;5;66;03m# will not work as tuple does not allow data to be changed\u001b[39;00m\n\u001b[1;32m----> 2\u001b[0m \u001b[43ma\u001b[49m\u001b[43m[\u001b[49m\u001b[38;5;241;43m0\u001b[39;49m\u001b[43m]\u001b[49m\u001b[38;5;241m=\u001b[39m\u001b[38;5;241m-\u001b[39m\u001b[38;5;241m1\u001b[39m\n\u001b[0;32m      3\u001b[0m a[\u001b[38;5;241m0\u001b[39m]\u001b[38;5;241m+\u001b[39m\u001b[38;5;241m=\u001b[39m [\u001b[38;5;241m10\u001b[39m]\n",
      "\u001b[1;31mTypeError\u001b[0m: 'tuple' object does not support item assignment"
     ]
    }
   ],
   "source": [
    "a=(1, 2, 3)  # will not work as tuple does not allow data to be changed\n",
    "a[0]=-1\n",
    "a[0]+= [10]"
   ]
  },
  {
   "attachments": {},
   "cell_type": "markdown",
   "id": "4d0b0a15",
   "metadata": {},
   "source": [
    "## 1.6 Be VERY careful when copying"
   ]
  },
  {
   "cell_type": "code",
   "execution_count": 26,
   "id": "fd63826a-fb12-41f3-8f98-cda628ddeb2d",
   "metadata": {},
   "outputs": [
    {
     "data": {
      "text/plain": [
       "[1, 2, 3]"
      ]
     },
     "execution_count": 26,
     "metadata": {},
     "output_type": "execute_result"
    }
   ],
   "source": [
    "x=[1, 2, 3]   # should not be done\n",
    "y=x           \n",
    "z=x           "
   ]
  },
  {
   "cell_type": "code",
   "execution_count": 27,
   "id": "2d5a106f-51a2-4d41-afdd-0dcb91cf549c",
   "metadata": {},
   "outputs": [],
   "source": [
    "x=[1, 2, 3]\n",
    "y=x.copy()      # copy x to y \n",
    "z=x.copy()      # copy x to z"
   ]
  },
  {
   "attachments": {},
   "cell_type": "markdown",
   "id": "1672f613",
   "metadata": {},
   "source": [
    "# Exercises & Self-Assessment"
   ]
  },
  {
   "cell_type": "code",
   "execution_count": null,
   "id": "3bcfb0b7",
   "metadata": {},
   "outputs": [],
   "source": [
    "\n",
    "\n",
    "\n",
    "# Your solution here\n",
    "\n",
    "\n"
   ]
  },
  {
   "attachments": {},
   "cell_type": "markdown",
   "id": "eb7e7f38",
   "metadata": {},
   "source": [
    "## Footnotes"
   ]
  }
 ],
 "metadata": {
  "kernelspec": {
   "display_name": "Python 3 (ipykernel)",
   "language": "python",
   "name": "python3"
  },
  "language_info": {
   "codemirror_mode": {
    "name": "ipython",
    "version": 3
   },
   "file_extension": ".py",
   "mimetype": "text/x-python",
   "name": "python",
   "nbconvert_exporter": "python",
   "pygments_lexer": "ipython3",
   "version": "3.11.5"
  },
  "toc": {
   "base_numbering": 1,
   "nav_menu": {},
   "number_sections": true,
   "sideBar": true,
   "skip_h1_title": false,
   "title_cell": "Table of Contents",
   "title_sidebar": "Contents",
   "toc_cell": false,
   "toc_position": {},
   "toc_section_display": true,
   "toc_window_display": false
  },
  "vscode": {
   "interpreter": {
    "hash": "31f2aee4e71d21fbe5cf8b01ff0e069b9275f58929596ceb00d14d90e3e16cd6"
   }
  }
 },
 "nbformat": 4,
 "nbformat_minor": 5
}
