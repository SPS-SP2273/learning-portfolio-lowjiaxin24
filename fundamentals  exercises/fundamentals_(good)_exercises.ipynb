{
 "cells": [
  {
   "attachments": {},
   "cell_type": "markdown",
   "id": "123456",
   "metadata": {},
   "source": [
    "<div style=\"text-align:left;font-size:2em\"><span style=\"font-weight:bolder;font-size:1.25em\">SP2273 | Learning Portfolio</span><br><br><span style=\"font-weight:bold;color:darkred\">Fundamentals (Good) Exercises</span></div>"
   ]
  },
  {
   "cell_type": "markdown",
   "id": "1f07ee7d-b600-4431-aa8a-0a697883ea26",
   "metadata": {},
   "source": [
    "**Step 1**"
   ]
  },
  {
   "cell_type": "code",
   "execution_count": 16,
   "id": "d64116b3-2e6f-4079-992b-d5030e0bbe3e",
   "metadata": {},
   "outputs": [
    {
     "name": "stdin",
     "output_type": "stream",
     "text": [
      "Give me a number? 23\n"
     ]
    },
    {
     "name": "stdout",
     "output_type": "stream",
     "text": [
      "You entered 23\n"
     ]
    }
   ],
   "source": [
    "user_input = input('Give me a number?') # input(): allows users to input a value (in this case, a number)\n",
    "print('You entered', user_input)        # Printing the value input by the user"
   ]
  },
  {
   "cell_type": "markdown",
   "id": "a15fd380-710e-43a0-830f-06c49f0b9224",
   "metadata": {},
   "source": [
    "**Task**"
   ]
  },
  {
   "cell_type": "code",
   "execution_count": 6,
   "id": "8331d65c-0cde-4d00-9c50-60381bee474c",
   "metadata": {},
   "outputs": [
    {
     "name": "stdin",
     "output_type": "stream",
     "text": [
      "Enter the student's score: hello\n"
     ]
    },
    {
     "name": "stdout",
     "output_type": "stream",
     "text": [
      "Score input is not a positive integer. Please try again.\n"
     ]
    }
   ],
   "source": [
    "user_input = input ('Enter the student\\'s score:')   # Input student's score\n",
    "if user_input.isdigit():                             # Check if value input is a positive integer\n",
    "    score = int(user_input)\n",
    "    if 70 <= score <= 100:                           # Print the letter grade that correspond to the score\n",
    "        print('The student\\'s letter grade is A')\n",
    "    elif 50 <= score <= 69:\n",
    "        print('The student\\'s letter grade is B')\n",
    "    elif 35 <= score <= 49:\n",
    "        print('The student\\'s letter grade is C')\n",
    "    elif 0 <= score <= 34:\n",
    "        print('The student\\'s letter grade is Fail')\n",
    "    else:\n",
    "        print('Score input is not between 0 to 100. Please try again.')\n",
    "else:                                                # Print error message if value input is not a positive integer\n",
    "    print('Score input is not a positive integer. Please try again.')"
   ]
  }
 ],
 "metadata": {
  "kernelspec": {
   "display_name": "Python 3 (ipykernel)",
   "language": "python",
   "name": "python3"
  },
  "language_info": {
   "codemirror_mode": {
    "name": "ipython",
    "version": 3
   },
   "file_extension": ".py",
   "mimetype": "text/x-python",
   "name": "python",
   "nbconvert_exporter": "python",
   "pygments_lexer": "ipython3",
   "version": "3.11.5"
  },
  "toc": {
   "base_numbering": 1,
   "nav_menu": {},
   "number_sections": true,
   "sideBar": true,
   "skip_h1_title": false,
   "title_cell": "Table of Contents",
   "title_sidebar": "Contents",
   "toc_cell": false,
   "toc_position": {},
   "toc_section_display": true,
   "toc_window_display": false
  },
  "vscode": {
   "interpreter": {
    "hash": "31f2aee4e71d21fbe5cf8b01ff0e069b9275f58929596ceb00d14d90e3e16cd6"
   }
  }
 },
 "nbformat": 4,
 "nbformat_minor": 5
}
