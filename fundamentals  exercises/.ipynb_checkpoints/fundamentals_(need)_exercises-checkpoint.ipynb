{
 "cells": [
  {
   "cell_type": "markdown",
   "id": "123456",
   "metadata": {},
   "source": [
    "<div style=\"text-align:left;font-size:2em\"><span style=\"font-weight:bolder;font-size:1.25em\">SP2273 | Learning Portfolio</span><br><br><span style=\"font-weight:bold;color:darkred\">Fundamentals (Need) Exercises</span></div>"
   ]
  },
  {
   "cell_type": "markdown",
   "id": "6b7a9a66",
   "metadata": {},
   "source": [
    "**Exercise 1**"
   ]
  },
  {
   "cell_type": "markdown",
   "id": "e9d30060",
   "metadata": {},
   "source": [
    "- import math package\n",
    "- *import numpy package*\n",
    "- print function\n",
    "- adding comments\n",
    "- *if and else function*\n",
    "- adding links\n",
    "- adding images\n",
    "- *creating tables*\n",
    "- making list"
   ]
  },
  {
   "cell_type": "markdown",
   "id": "32f47bf6",
   "metadata": {},
   "source": [
    "**Exercise 2**"
   ]
  },
  {
   "cell_type": "code",
   "execution_count": 1,
   "id": "ce71a48a",
   "metadata": {},
   "outputs": [
    {
     "name": "stdout",
     "output_type": "stream",
     "text": [
      "3 4 5.0\n"
     ]
    }
   ],
   "source": [
    "import math\n",
    "x,y = 3,4\n",
    "z = math.sqrt(x**2 + y**2)\n",
    "print(x, y, z)"
   ]
  },
  {
   "cell_type": "markdown",
   "id": "4fe67fcb",
   "metadata": {},
   "source": [
    "**Exercise 3**"
   ]
  },
  {
   "cell_type": "markdown",
   "id": "8dfe2350-8e78-4716-a34b-c4350acfdcc0",
   "metadata": {},
   "source": [
    "| **#** | **Term**     | **Description**                                                                                                             |\r\n",
    "|-------|--------------|-----------------------------------------------------------------------------------------------------------------------------|\r\n",
    "| 1     | Function     | Function is a code that performs a specific task.                                                                           |\r\n",
    "| 2     | Arguments    | Arguments are values that are passed into a function.                                                                       |\r\n",
    "| 3     | Comments     | Comments are descriptions that are written by the programmer to guide other programmers on what the code is supposed to do. |\r\n",
    "| 4     | Indentations | Indentations are used to indicate and distinguish sections of code.                                                         |\r\n",
    "| 5     | Packages     | It is a library which contains functions that programmers can use to code.                                                  |\r\n",
    "| 6     | .            | It is used to identify the package which the code belong to and retrieve its corresponding function/attributes.             |\r\n",
    "| 7     | :            | It is used to indicate the start of an indented block of code.                                                              |\r\n",
    "| 8     | []           | It is used to input data into 1D lists.                                                                                     |\r\n",
    "| 9     | [[[]]]       | It is used to input data into 2D lists.                                                                                     |\r\n",
    "| 10    | {}           | It is used to store input data into a dictionary, which identifies a value using the corresponding               |key.       "
   ]
  },
  {
   "cell_type": "markdown",
   "id": "ded34966-1a44-4ec4-9bc5-631f902e70eb",
   "metadata": {},
   "source": [
    "**Exercise 4**"
   ]
  },
  {
   "cell_type": "code",
   "execution_count": 2,
   "id": "d687799a-01a7-419c-acfc-e1d7700cd48f",
   "metadata": {},
   "outputs": [
    {
     "data": {
      "text/plain": [
       "2.5"
      ]
     },
     "execution_count": 2,
     "metadata": {},
     "output_type": "execute_result"
    }
   ],
   "source": [
    "5/2           # / divides the value and reports the answer to its decimal place."
   ]
  },
  {
   "cell_type": "code",
   "execution_count": 14,
   "id": "a3032494-fa6c-48cf-9c7d-5a99277d626d",
   "metadata": {},
   "outputs": [
    {
     "data": {
      "text/plain": [
       "7.15"
      ]
     },
     "execution_count": 14,
     "metadata": {},
     "output_type": "execute_result"
    }
   ],
   "source": [
    "14.3/2"
   ]
  },
  {
   "cell_type": "code",
   "execution_count": 15,
   "id": "e3c4593d-e286-44a3-b9ba-83c85790b847",
   "metadata": {},
   "outputs": [
    {
     "data": {
      "text/plain": [
       "7.253"
      ]
     },
     "execution_count": 15,
     "metadata": {},
     "output_type": "execute_result"
    }
   ],
   "source": [
    "14.506/2"
   ]
  },
  {
   "cell_type": "code",
   "execution_count": 6,
   "id": "89655488-77f3-48fd-8ea3-f29a6ad0dbe8",
   "metadata": {},
   "outputs": [
    {
     "data": {
      "text/plain": [
       "2"
      ]
     },
     "execution_count": 6,
     "metadata": {},
     "output_type": "execute_result"
    }
   ],
   "source": [
    "5//2       # // divides the value but rounds down the answer to the whole number if the answer is a decimal."
   ]
  },
  {
   "cell_type": "code",
   "execution_count": 7,
   "id": "dde57642-a1f7-4105-bbd6-9a0640bf3808",
   "metadata": {},
   "outputs": [
    {
     "data": {
      "text/plain": [
       "3"
      ]
     },
     "execution_count": 7,
     "metadata": {},
     "output_type": "execute_result"
    }
   ],
   "source": [
    "7//2"
   ]
  },
  {
   "cell_type": "code",
   "execution_count": 8,
   "id": "736a9b91-7bc4-477d-a397-666a14dc322f",
   "metadata": {},
   "outputs": [
    {
     "data": {
      "text/plain": [
       "3"
      ]
     },
     "execution_count": 8,
     "metadata": {},
     "output_type": "execute_result"
    }
   ],
   "source": [
    "6//2"
   ]
  },
  {
   "cell_type": "code",
   "execution_count": 4,
   "id": "2c0add0b-6cfb-4f09-8839-f1543cf3b768",
   "metadata": {},
   "outputs": [
    {
     "data": {
      "text/plain": [
       "1"
      ]
     },
     "execution_count": 4,
     "metadata": {},
     "output_type": "execute_result"
    }
   ],
   "source": [
    "5%2           # % checks if the number on the left of the '%' sign is divisible by the number on the right(e.g. %2: checks if the number in front is divisible by 2). If the number is divisble by the number on the right, 0 is the answer. If the number is not divisible by the number on the right, 1 is the answer."
   ]
  },
  {
   "cell_type": "code",
   "execution_count": 11,
   "id": "f290e42a-03c0-48b8-ace5-1ac49d1f1478",
   "metadata": {},
   "outputs": [
    {
     "data": {
      "text/plain": [
       "1"
      ]
     },
     "execution_count": 11,
     "metadata": {},
     "output_type": "execute_result"
    }
   ],
   "source": [
    "7%2"
   ]
  },
  {
   "cell_type": "code",
   "execution_count": 12,
   "id": "4fdf9f87-c25e-4530-b08f-88717b4dd584",
   "metadata": {},
   "outputs": [
    {
     "data": {
      "text/plain": [
       "0"
      ]
     },
     "execution_count": 12,
     "metadata": {},
     "output_type": "execute_result"
    }
   ],
   "source": [
    "200%2"
   ]
  }
 ],
 "metadata": {
  "kernelspec": {
   "display_name": "Python 3 (ipykernel)",
   "language": "python",
   "name": "python3"
  },
  "language_info": {
   "codemirror_mode": {
    "name": "ipython",
    "version": 3
   },
   "file_extension": ".py",
   "mimetype": "text/x-python",
   "name": "python",
   "nbconvert_exporter": "python",
   "pygments_lexer": "ipython3",
   "version": "3.11.5"
  },
  "toc": {
   "base_numbering": 1,
   "nav_menu": {},
   "number_sections": true,
   "sideBar": true,
   "skip_h1_title": false,
   "title_cell": "Table of Contents",
   "title_sidebar": "Contents",
   "toc_cell": false,
   "toc_position": {},
   "toc_section_display": true,
   "toc_window_display": false
  },
  "varInspector": {
   "cols": {
    "lenName": 16,
    "lenType": 16,
    "lenVar": 40
   },
   "kernels_config": {
    "python": {
     "delete_cmd_postfix": "",
     "delete_cmd_prefix": "del ",
     "library": "var_list.py",
     "varRefreshCmd": "print(var_dic_list())"
    },
    "r": {
     "delete_cmd_postfix": ") ",
     "delete_cmd_prefix": "rm(",
     "library": "var_list.r",
     "varRefreshCmd": "cat(var_dic_list()) "
    }
   },
   "types_to_exclude": [
    "module",
    "function",
    "builtin_function_or_method",
    "instance",
    "_Feature"
   ],
   "window_display": false
  },
  "vscode": {
   "interpreter": {
    "hash": "31f2aee4e71d21fbe5cf8b01ff0e069b9275f58929596ceb00d14d90e3e16cd6"
   }
  }
 },
 "nbformat": 4,
 "nbformat_minor": 5
}
