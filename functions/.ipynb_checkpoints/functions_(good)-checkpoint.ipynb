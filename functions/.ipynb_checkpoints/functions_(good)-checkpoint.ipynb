{
 "cells": [
  {
   "attachments": {},
   "cell_type": "markdown",
   "id": "123456",
   "metadata": {},
   "source": [
    "<div style=\"text-align:left;font-size:2em\"><span style=\"font-weight:bolder;font-size:1.25em\">SP2273 | Learning Portfolio</span><br><br><span style=\"font-weight:bold;color:darkred\">Functions (Good)</span></div>"
   ]
  },
  {
   "attachments": {},
   "cell_type": "markdown",
   "id": "1f035b11",
   "metadata": {},
   "source": [
    "# What to expect in this chapter"
   ]
  },
  {
   "attachments": {},
   "cell_type": "markdown",
   "id": "d739cd72",
   "metadata": {},
   "source": [
    "# 1 Checks, balances, and contingencies"
   ]
  },
  {
   "cell_type": "markdown",
   "id": "61f6605e-52f2-460f-8356-c46aae37d604",
   "metadata": {},
   "source": [
    "checks and balances are implemented to ensure that the code is running normally"
   ]
  },
  {
   "attachments": {},
   "cell_type": "markdown",
   "id": "be0bd63d",
   "metadata": {},
   "source": [
    "## 1.1 assert"
   ]
  },
  {
   "cell_type": "code",
   "execution_count": 4,
   "id": "0d4a87ca-a688-48e7-8715-c2565f57e215",
   "metadata": {},
   "outputs": [],
   "source": [
    "x = 10"
   ]
  },
  {
   "cell_type": "code",
   "execution_count": 3,
   "id": "ad843f45-80a2-42ab-80dd-71694571e898",
   "metadata": {},
   "outputs": [],
   "source": [
    "\n",
    "assert x >= 0, \"x is becoming negative!\"         # basic syntax: assert condition-to-check, message\n"
   ]
  },
  {
   "cell_type": "code",
   "execution_count": 6,
   "id": "8564a7d9-9668-458d-98d6-8c1b74c2053e",
   "metadata": {},
   "outputs": [],
   "source": [
    "x = -1\n"
   ]
  },
  {
   "cell_type": "code",
   "execution_count": 8,
   "id": "61db4ffb-a646-4ffc-ba6d-83349b4d0387",
   "metadata": {},
   "outputs": [
    {
     "ename": "AssertionError",
     "evalue": "x is becoming negative!",
     "output_type": "error",
     "traceback": [
      "\u001b[1;31m---------------------------------------------------------------------------\u001b[0m",
      "\u001b[1;31mAssertionError\u001b[0m                            Traceback (most recent call last)",
      "Cell \u001b[1;32mIn[8], line 1\u001b[0m\n\u001b[1;32m----> 1\u001b[0m \u001b[38;5;28;01massert\u001b[39;00m x \u001b[38;5;241m>\u001b[39m\u001b[38;5;241m=\u001b[39m \u001b[38;5;241m0\u001b[39m, \u001b[38;5;124m\"\u001b[39m\u001b[38;5;124mx is becoming negative!\u001b[39m\u001b[38;5;124m\"\u001b[39m \u001b[38;5;66;03m# stops the code from running as x < 0\u001b[39;00m\n",
      "\u001b[1;31mAssertionError\u001b[0m: x is becoming negative!"
     ]
    }
   ],
   "source": [
    "assert x >= 0, \"x is becoming negative!\" # stops the code from running as x < 0"
   ]
  },
  {
   "attachments": {},
   "cell_type": "markdown",
   "id": "8737a3ef",
   "metadata": {},
   "source": [
    "## 1.2 try-except"
   ]
  },
  {
   "cell_type": "code",
   "execution_count": 11,
   "id": "d31b9c12-ae5c-47fc-8ec2-5bc3123eb709",
   "metadata": {},
   "outputs": [
    {
     "name": "stdin",
     "output_type": "stream",
     "text": [
      "Give me a number and I will calculate its square. 4\n"
     ]
    },
    {
     "name": "stdout",
     "output_type": "stream",
     "text": [
      "The square of 4 is 16!\n"
     ]
    }
   ],
   "source": [
    "number=input(\"Give me a number and I will calculate its square.\")\n",
    "square=int(number)**2                        # Convert English to number\n",
    "print(f'The square of {number} is {square}!')   # program will not run if input is not an int (e.g. words given as input)"
   ]
  },
  {
   "cell_type": "code",
   "execution_count": 12,
   "id": "6c31f68d-503e-4e66-9ca2-843770f7b73c",
   "metadata": {},
   "outputs": [
    {
     "name": "stdin",
     "output_type": "stream",
     "text": [
      "Give me a number and I will calculate its square. four\n"
     ]
    },
    {
     "name": "stdout",
     "output_type": "stream",
     "text": [
      "Oh oh! I cannot square four!\n"
     ]
    }
   ],
   "source": [
    "try:    # try to run this block of code\n",
    "    number=input(\"Give me a number and I will calculate its square.\")\n",
    "    square=int(number)**2\n",
    "    print(f'The square of {number} is {square}!')\n",
    "except:  # if there is a problem with the block of code under try, ignore the error in the code in the try block and print specific error message instead\n",
    "    print(f\"Oh oh! I cannot square {number}!\")"
   ]
  },
  {
   "attachments": {},
   "cell_type": "markdown",
   "id": "a736df6c",
   "metadata": {},
   "source": [
    "## 1.3 A simple suggestion"
   ]
  },
  {
   "cell_type": "code",
   "execution_count": 27,
   "id": "1d1cdf22-938d-4557-bddd-3352e88dc65f",
   "metadata": {},
   "outputs": [
    {
     "name": "stdout",
     "output_type": "stream",
     "text": [
      "I am adding 0 to the list\n",
      "I am adding 1000 to the list\n",
      "I am adding 2000 to the list\n",
      "I am adding 3000 to the list\n",
      "I am adding 4000 to the list\n",
      "I am adding 5000 to the list\n",
      "I am adding 6000 to the list\n",
      "I am adding 7000 to the list\n",
      "I am adding 8000 to the list\n",
      "I am adding 9000 to the list\n"
     ]
    }
   ],
   "source": [
    "numbers=[]\n",
    "for i in range(10000):\n",
    "    if i%1000 == 0:\n",
    "        print(f'I am adding {i} to the list')   # using print() to know if the code is doing what it is supposed to do \n",
    "numbers.append(i)"
   ]
  },
  {
   "attachments": {},
   "cell_type": "markdown",
   "id": "fa16b252",
   "metadata": {},
   "source": [
    "# 2 Some loose ends"
   ]
  },
  {
   "cell_type": "markdown",
   "id": "1104cb94-17f5-4cfa-b605-f980f0b1e37d",
   "metadata": {},
   "source": [
    "# 2.1 Positional, keyword and default arguments"
   ]
  },
  {
   "cell_type": "code",
   "execution_count": 13,
   "id": "64843694-a30c-4ede-9a23-afdfab43d2d8",
   "metadata": {},
   "outputs": [],
   "source": [
    "def side_by_side(a, b, c=42):\n",
    "    return f'{a: 2d}|{b: 2d}|{c: 2d}'"
   ]
  },
  {
   "cell_type": "markdown",
   "id": "40abf034-7730-47d8-9120-858b321f67cf",
   "metadata": {},
   "source": [
    "**positional**"
   ]
  },
  {
   "cell_type": "code",
   "execution_count": 28,
   "id": "26e36e26-4c5c-4cbd-8b75-873623b38258",
   "metadata": {},
   "outputs": [
    {
     "data": {
      "text/plain": [
       "' 1| 2| 3'"
      ]
     },
     "execution_count": 28,
     "metadata": {},
     "output_type": "execute_result"
    }
   ],
   "source": [
    "side_by_side(1, 2, 3) # assigning 1,2,3 to a,b,c"
   ]
  },
  {
   "cell_type": "code",
   "execution_count": 31,
   "id": "236e2b65-4be5-4081-870e-9a589c76a804",
   "metadata": {},
   "outputs": [
    {
     "data": {
      "text/plain": [
       "' 1| 3| 2'"
      ]
     },
     "execution_count": 31,
     "metadata": {},
     "output_type": "execute_result"
    }
   ],
   "source": [
    "side_by_side(1, 3, 2) # position of the number will determine which number is assigned to a,b or c"
   ]
  },
  {
   "cell_type": "markdown",
   "id": "f1ae6518-c67c-4596-91a7-39331016b3ea",
   "metadata": {},
   "source": [
    "**keywords**"
   ]
  },
  {
   "cell_type": "code",
   "execution_count": 33,
   "id": "517ed294-47d5-4a4b-883b-b75fdab992b0",
   "metadata": {},
   "outputs": [
    {
     "data": {
      "text/plain": [
       "' 2| 1| 3'"
      ]
     },
     "execution_count": 33,
     "metadata": {},
     "output_type": "execute_result"
    }
   ],
   "source": [
    "side_by_side(c=3, b=1, a=2)  # order of the number does not matter"
   ]
  },
  {
   "cell_type": "markdown",
   "id": "26125aee-9c0d-4982-b82a-35418f9d7541",
   "metadata": {},
   "source": [
    "**default**"
   ]
  },
  {
   "cell_type": "code",
   "execution_count": 34,
   "id": "8d4f0896-97ce-4a25-ba61-926e34ebe567",
   "metadata": {},
   "outputs": [
    {
     "data": {
      "text/plain": [
       "' 1| 2| 42'"
      ]
     },
     "execution_count": 34,
     "metadata": {},
     "output_type": "execute_result"
    }
   ],
   "source": [
    "side_by_side(1, b=2)  # variable c is default value`"
   ]
  },
  {
   "cell_type": "code",
   "execution_count": 37,
   "id": "76c0b036-57f1-4184-8960-19693f5f70a5",
   "metadata": {},
   "outputs": [
    {
     "ename": "SyntaxError",
     "evalue": "positional argument follows keyword argument (4244114148.py, line 1)",
     "output_type": "error",
     "traceback": [
      "\u001b[1;36m  Cell \u001b[1;32mIn[37], line 1\u001b[1;36m\u001b[0m\n\u001b[1;33m    side_by_side(b=2, 1) # error as the value 1 is not assigned to a specific variable\u001b[0m\n\u001b[1;37m                       ^\u001b[0m\n\u001b[1;31mSyntaxError\u001b[0m\u001b[1;31m:\u001b[0m positional argument follows keyword argument\n"
     ]
    }
   ],
   "source": [
    "side_by_side(b=2, 1) # error as the value 1 is not assigned to a specific variable"
   ]
  },
  {
   "attachments": {},
   "cell_type": "markdown",
   "id": "f366d07d",
   "metadata": {},
   "source": [
    "## 2.1 Positional, keyword and default arguments"
   ]
  },
  {
   "cell_type": "code",
   "execution_count": 44,
   "id": "e55c6df6-fd51-40ee-aacb-c80b728d3f77",
   "metadata": {},
   "outputs": [
    {
     "data": {
      "text/plain": [
       "' 1| 2| 42'"
      ]
     },
     "execution_count": 44,
     "metadata": {},
     "output_type": "execute_result"
    }
   ],
   "source": [
    "side_by_side(1, 2)           # Two positional, 1 default"
   ]
  },
  {
   "cell_type": "code",
   "execution_count": 39,
   "id": "23d2c8e0-67d2-47ef-9dcb-bd2078d78211",
   "metadata": {},
   "outputs": [
    {
     "data": {
      "text/plain": [
       "' 1| 2| 3'"
      ]
     },
     "execution_count": 39,
     "metadata": {},
     "output_type": "execute_result"
    }
   ],
   "source": [
    "side_by_side(1, 2, 3)        # Three positional"
   ]
  },
  {
   "cell_type": "code",
   "execution_count": 40,
   "id": "9de71f71-60eb-41a9-a99c-902a1f405b67",
   "metadata": {},
   "outputs": [
    {
     "data": {
      "text/plain": [
       "' 1| 2| 42'"
      ]
     },
     "execution_count": 40,
     "metadata": {},
     "output_type": "execute_result"
    }
   ],
   "source": [
    "side_by_side(a=1, b=2)       # Two keyword, 1 default"
   ]
  },
  {
   "cell_type": "code",
   "execution_count": 45,
   "id": "eb346b08-fce4-48da-b77d-e9a8e8b85148",
   "metadata": {},
   "outputs": [
    {
     "data": {
      "text/plain": [
       "' 2| 1| 3'"
      ]
     },
     "execution_count": 45,
     "metadata": {},
     "output_type": "execute_result"
    }
   ],
   "source": [
    "side_by_side(c=3, b=1, a=2)  # Three keyword"
   ]
  },
  {
   "cell_type": "code",
   "execution_count": 46,
   "id": "13bda15d-a6e2-474d-b9aa-cd61634b11f0",
   "metadata": {},
   "outputs": [
    {
     "data": {
      "text/plain": [
       "' 1| 2| 3'"
      ]
     },
     "execution_count": 46,
     "metadata": {},
     "output_type": "execute_result"
    }
   ],
   "source": [
    "side_by_side(1, c=3, b=2)    # One positional, 2 keyword"
   ]
  },
  {
   "cell_type": "code",
   "execution_count": 47,
   "id": "d7e0f548-9d51-43d2-af41-906b13818410",
   "metadata": {},
   "outputs": [
    {
     "data": {
      "text/plain": [
       "' 1| 2| 42'"
      ]
     },
     "execution_count": 47,
     "metadata": {},
     "output_type": "execute_result"
    }
   ],
   "source": [
    "side_by_side(1, b=2)         # One positional, 1 keyword, 1 default"
   ]
  },
  {
   "cell_type": "code",
   "execution_count": 49,
   "id": "81b97469-d638-4c2f-9a48-e83d18b1cade",
   "metadata": {},
   "outputs": [
    {
     "ename": "TypeError",
     "evalue": "side_by_side() got multiple values for argument 'a'",
     "output_type": "error",
     "traceback": [
      "\u001b[1;31m---------------------------------------------------------------------------\u001b[0m",
      "\u001b[1;31mTypeError\u001b[0m                                 Traceback (most recent call last)",
      "Cell \u001b[1;32mIn[49], line 1\u001b[0m\n\u001b[1;32m----> 1\u001b[0m \u001b[43mside_by_side\u001b[49m\u001b[43m(\u001b[49m\u001b[38;5;241;43m1\u001b[39;49m\u001b[43m,\u001b[49m\u001b[43mc\u001b[49m\u001b[38;5;241;43m=\u001b[39;49m\u001b[38;5;241;43m3\u001b[39;49m\u001b[43m,\u001b[49m\u001b[43mb\u001b[49m\u001b[38;5;241;43m=\u001b[39;49m\u001b[38;5;241;43m2\u001b[39;49m\u001b[43m,\u001b[49m\u001b[43ma\u001b[49m\u001b[38;5;241;43m=\u001b[39;49m\u001b[38;5;241;43m2\u001b[39;49m\u001b[43m)\u001b[49m\n",
      "\u001b[1;31mTypeError\u001b[0m: side_by_side() got multiple values for argument 'a'"
     ]
    }
   ],
   "source": [
    "side_by_side(1,c=3,b=2,a=2)  # code will not work as variable 'a' has multiple values being assigned to it"
   ]
  },
  {
   "cell_type": "code",
   "execution_count": 81,
   "id": "4e336081-e50d-4378-a2c9-43f99c45842c",
   "metadata": {},
   "outputs": [
    {
     "ename": "SyntaxError",
     "evalue": "positional argument follows keyword argument (3069939588.py, line 1)",
     "output_type": "error",
     "traceback": [
      "\u001b[1;36m  Cell \u001b[1;32mIn[81], line 1\u001b[1;36m\u001b[0m\n\u001b[1;33m    side_by_side(a=2, 1)      # Won't work because value 1 is not assigned to a specific variable\u001b[0m\n\u001b[1;37m                       ^\u001b[0m\n\u001b[1;31mSyntaxError\u001b[0m\u001b[1;31m:\u001b[0m positional argument follows keyword argument\n"
     ]
    }
   ],
   "source": [
    "side_by_side(a=2, 1)      # Won't work because value 1 is not assigned to a specific variable                          "
   ]
  },
  {
   "attachments": {},
   "cell_type": "markdown",
   "id": "4f8700c2",
   "metadata": {},
   "source": [
    "## 2.2 Docstrings"
   ]
  },
  {
   "cell_type": "code",
   "execution_count": 53,
   "id": "2e9e5c7c-b348-4294-84c4-8efdc24bc469",
   "metadata": {},
   "outputs": [],
   "source": [
    "def side_by_side(a, b, c=42):\n",
    "    '''                                           # docstring allows us to document what the function does in the function\n",
    "    A test function to demonstrate how \n",
    "    positional, keyword and default arguments \n",
    "    work.\n",
    "    '''\n",
    "    return f'{a: 2d}|{b: 2d}|{c: 2d}'"
   ]
  },
  {
   "cell_type": "code",
   "execution_count": 51,
   "id": "fce96f11-4385-4fbb-b3c7-e59b8ccd335d",
   "metadata": {},
   "outputs": [
    {
     "name": "stdout",
     "output_type": "stream",
     "text": [
      "Help on function side_by_side in module __main__:\n",
      "\n",
      "side_by_side(a, b, c=42)\n",
      "    A test function to demonstrate how \n",
      "    positional, keyword and default arguments \n",
      "    work.\n",
      "\n"
     ]
    }
   ],
   "source": [
    "help(side_by_side)   "
   ]
  },
  {
   "cell_type": "code",
   "execution_count": 54,
   "id": "4690bb2c-0d8b-4220-b098-085413803b39",
   "metadata": {},
   "outputs": [
    {
     "data": {
      "text/plain": [
       "\u001b[1;31mSignature:\u001b[0m \u001b[0mside_by_side\u001b[0m\u001b[1;33m(\u001b[0m\u001b[0ma\u001b[0m\u001b[1;33m,\u001b[0m \u001b[0mb\u001b[0m\u001b[1;33m,\u001b[0m \u001b[0mc\u001b[0m\u001b[1;33m=\u001b[0m\u001b[1;36m42\u001b[0m\u001b[1;33m)\u001b[0m\u001b[1;33m\u001b[0m\u001b[1;33m\u001b[0m\u001b[0m\n",
       "\u001b[1;31mDocstring:\u001b[0m\n",
       "# docstring allows us to document what the function does in the function\n",
       "A test function to demonstrate how \n",
       "positional, keyword and default arguments \n",
       "work.\n",
       "\u001b[1;31mFile:\u001b[0m      c:\\users\\jia xin\\appdata\\local\\temp\\ipykernel_39636\\560893093.py\n",
       "\u001b[1;31mType:\u001b[0m      function"
      ]
     },
     "metadata": {},
     "output_type": "display_data"
    }
   ],
   "source": [
    "?side_by_side"
   ]
  },
  {
   "attachments": {},
   "cell_type": "markdown",
   "id": "8b145683",
   "metadata": {},
   "source": [
    "## 2.3 Function are first-class citizens"
   ]
  },
  {
   "cell_type": "code",
   "execution_count": 62,
   "id": "20d10562-88d5-4e5f-b900-d159a09bb262",
   "metadata": {},
   "outputs": [],
   "source": [
    "import numpy as np\n",
    "def my_function(angle, trig_function):\n",
    "        return trig_function(angle)"
   ]
  },
  {
   "cell_type": "code",
   "execution_count": 66,
   "id": "f11b8b7a-e0a9-4510-81e2-f46b795c1097",
   "metadata": {},
   "outputs": [
    {
     "data": {
      "text/plain": [
       "1.0"
      ]
     },
     "execution_count": 66,
     "metadata": {},
     "output_type": "execute_result"
    }
   ],
   "source": [
    "my_function(np.pi/2, np.sin)       #np.sin(angle) \n"
   ]
  },
  {
   "cell_type": "code",
   "execution_count": 64,
   "id": "6c4b70b4-b03c-4d2f-9a92-b0af70654b9f",
   "metadata": {},
   "outputs": [
    {
     "data": {
      "text/plain": [
       "6.123233995736766e-17"
      ]
     },
     "execution_count": 64,
     "metadata": {},
     "output_type": "execute_result"
    }
   ],
   "source": [
    "my_function(np.pi/2, np.cos) #np.cos(angle)"
   ]
  },
  {
   "cell_type": "code",
   "execution_count": 75,
   "id": "4810df8b-1776-4219-9106-ea8293428c9d",
   "metadata": {},
   "outputs": [
    {
     "name": "stdout",
     "output_type": "stream",
     "text": [
      "3.141592653589793\n"
     ]
    }
   ],
   "source": [
    "my_function(np.pi, print) #print(angle)"
   ]
  },
  {
   "cell_type": "code",
   "execution_count": 80,
   "id": "0e22c02b-408f-4500-b48c-1e30a247cf7c",
   "metadata": {},
   "outputs": [
    {
     "data": {
      "text/plain": [
       "-1.0"
      ]
     },
     "execution_count": 80,
     "metadata": {},
     "output_type": "execute_result"
    }
   ],
   "source": [
    "my_function(np.pi/2, lambda x: np.cos(2*x))  #np.cos(2*np.pi/2)\n"
   ]
  },
  {
   "attachments": {},
   "cell_type": "markdown",
   "id": "d593b71f",
   "metadata": {},
   "source": [
    "## 2.4 More about unpacking"
   ]
  },
  {
   "cell_type": "code",
   "execution_count": 57,
   "id": "76a80487-d1a3-4f9c-bafa-894c62abad73",
   "metadata": {},
   "outputs": [
    {
     "data": {
      "text/plain": [
       "(1, 2, 3)"
      ]
     },
     "execution_count": 57,
     "metadata": {},
     "output_type": "execute_result"
    }
   ],
   "source": [
    "x, y, z = [1, 2, 3]\n",
    "x, y, z"
   ]
  },
  {
   "cell_type": "code",
   "execution_count": 58,
   "id": "67e4b04a-44c8-479e-8ba4-739800af5a34",
   "metadata": {},
   "outputs": [
    {
     "data": {
      "text/plain": [
       "(1, 2, 3)"
      ]
     },
     "execution_count": 58,
     "metadata": {},
     "output_type": "execute_result"
    }
   ],
   "source": [
    "x, y, z = np.array([1, 2, 3])\n",
    "x, y, z"
   ]
  },
  {
   "cell_type": "code",
   "execution_count": 82,
   "id": "06264dbe-625c-4107-80ac-a24eb264f4f0",
   "metadata": {},
   "outputs": [
    {
     "ename": "ValueError",
     "evalue": "too many values to unpack (expected 3)",
     "output_type": "error",
     "traceback": [
      "\u001b[1;31m---------------------------------------------------------------------------\u001b[0m",
      "\u001b[1;31mValueError\u001b[0m                                Traceback (most recent call last)",
      "Cell \u001b[1;32mIn[82], line 1\u001b[0m\n\u001b[1;32m----> 1\u001b[0m x,y,z \u001b[38;5;241m=\u001b[39m np\u001b[38;5;241m.\u001b[39marray([\u001b[38;5;241m1\u001b[39m,\u001b[38;5;241m2\u001b[39m,\u001b[38;5;241m3\u001b[39m,\u001b[38;5;241m4\u001b[39m,\u001b[38;5;241m5\u001b[39m]) \u001b[38;5;66;03m# will not work as the code only define 3 variables but 5 values in the array\u001b[39;00m\n\u001b[0;32m      2\u001b[0m x,y,z\n",
      "\u001b[1;31mValueError\u001b[0m: too many values to unpack (expected 3)"
     ]
    }
   ],
   "source": [
    "x,y,z = np.array([1,2,3,4,5]) # will not work as the code only define 3 variables but 5 values in the array\n",
    "x,y,z"
   ]
  },
  {
   "cell_type": "code",
   "execution_count": 59,
   "id": "96c96a29-85fb-44b4-b768-ff7fae94ba32",
   "metadata": {},
   "outputs": [
    {
     "data": {
      "text/plain": [
       "(1, [2, 3, 4], 5)"
      ]
     },
     "execution_count": 59,
     "metadata": {},
     "output_type": "execute_result"
    }
   ],
   "source": [
    "x, *y, z = np.array([1, 2, 3, 4, 5])   # use * to avoid error\n",
    "x, y, z"
   ]
  },
  {
   "cell_type": "code",
   "execution_count": 78,
   "id": "30bcb7fa-30d4-4711-957a-8b842d765bab",
   "metadata": {},
   "outputs": [
    {
     "data": {
      "text/plain": [
       "([1, 2, 3], 4, 5)"
      ]
     },
     "execution_count": 78,
     "metadata": {},
     "output_type": "execute_result"
    }
   ],
   "source": [
    "*x, y, z = np.array([1, 2, 3, 4, 5])   # * is positional\n",
    "x, y, z"
   ]
  },
  {
   "cell_type": "code",
   "execution_count": 79,
   "id": "17230636-5edc-45ec-951b-a3b454b417cf",
   "metadata": {},
   "outputs": [
    {
     "data": {
      "text/plain": [
       "(1, 5)"
      ]
     },
     "execution_count": 79,
     "metadata": {},
     "output_type": "execute_result"
    }
   ],
   "source": [
    "x, *_, y = [1, 2, 3, 4, 5]   # use *_ to discard the middle values and state the ends\n",
    "x, y"
   ]
  }
 ],
 "metadata": {
  "kernelspec": {
   "display_name": "Python 3 (ipykernel)",
   "language": "python",
   "name": "python3"
  },
  "language_info": {
   "codemirror_mode": {
    "name": "ipython",
    "version": 3
   },
   "file_extension": ".py",
   "mimetype": "text/x-python",
   "name": "python",
   "nbconvert_exporter": "python",
   "pygments_lexer": "ipython3",
   "version": "3.11.5"
  },
  "toc": {
   "base_numbering": 1,
   "nav_menu": {},
   "number_sections": true,
   "sideBar": true,
   "skip_h1_title": false,
   "title_cell": "Table of Contents",
   "title_sidebar": "Contents",
   "toc_cell": false,
   "toc_position": {},
   "toc_section_display": true,
   "toc_window_display": false
  },
  "vscode": {
   "interpreter": {
    "hash": "31f2aee4e71d21fbe5cf8b01ff0e069b9275f58929596ceb00d14d90e3e16cd6"
   }
  }
 },
 "nbformat": 4,
 "nbformat_minor": 5
}
