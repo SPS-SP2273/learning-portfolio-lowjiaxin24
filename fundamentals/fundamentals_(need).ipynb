{
 "cells": [
  {
   "cell_type": "markdown",
   "id": "123456",
   "metadata": {},
   "source": [
    "<div style=\"text-align:left;font-size:2em\"><span style=\"font-weight:bolder;font-size:1.25em\">SP2273 | Learning Portfolio</span><br><br><span style=\"font-weight:bold;color:darkred\">Fundamentals (Need)</span></div>"
   ]
  },
  {
   "cell_type": "markdown",
   "id": "6d60ff6e",
   "metadata": {},
   "source": [
    "# Functions"
   ]
  },
  {
   "cell_type": "code",
   "execution_count": 1,
   "id": "95506198",
   "metadata": {},
   "outputs": [
    {
     "name": "stdout",
     "output_type": "stream",
     "text": [
      "Hello world!\n"
     ]
    }
   ],
   "source": [
    "print('Hello world!')"
   ]
  },
  {
   "cell_type": "markdown",
   "id": "11aa04d1",
   "metadata": {},
   "source": [
    "#  Python is interpreted"
   ]
  },
  {
   "cell_type": "code",
   "execution_count": 2,
   "id": "903d1fc6",
   "metadata": {},
   "outputs": [
    {
     "name": "stdout",
     "output_type": "stream",
     "text": [
      "Hello World\n",
      "Hello World again\n",
      "Hello World\n",
      "Hello World again\n"
     ]
    }
   ],
   "source": [
    "print('Hello World')\n",
    "print('Hello World again')"
   ]
  },
  {
   "cell_type": "markdown",
   "id": "492c663c",
   "metadata": {},
   "source": [
    "# Python is sensitive."
   ]
  },
  {
   "cell_type": "code",
   "execution_count": 12,
   "id": "d7708c26",
   "metadata": {},
   "outputs": [
    {
     "name": "stdout",
     "output_type": "stream",
     "text": [
      "Hello World\n"
     ]
    }
   ],
   "source": [
    "print('Hello World')"
   ]
  },
  {
   "cell_type": "code",
   "execution_count": 13,
   "id": "c4312962",
   "metadata": {},
   "outputs": [
    {
     "ename": "NameError",
     "evalue": "name 'Print' is not defined",
     "output_type": "error",
     "traceback": [
      "\u001b[1;31m---------------------------------------------------------------------------\u001b[0m",
      "\u001b[1;31mNameError\u001b[0m                                 Traceback (most recent call last)",
      "Cell \u001b[1;32mIn[13], line 1\u001b[0m\n\u001b[1;32m----> 1\u001b[0m \u001b[43mPrint\u001b[49m(\u001b[38;5;124m'\u001b[39m\u001b[38;5;124mHello World\u001b[39m\u001b[38;5;124m'\u001b[39m)\n",
      "\u001b[1;31mNameError\u001b[0m: name 'Print' is not defined"
     ]
    }
   ],
   "source": [
    "Print('Hello World')"
   ]
  },
  {
   "cell_type": "markdown",
   "id": "cd8780c9",
   "metadata": {},
   "source": [
    "# Comments"
   ]
  },
  {
   "cell_type": "code",
   "execution_count": 16,
   "id": "f01dd940",
   "metadata": {},
   "outputs": [
    {
     "name": "stdout",
     "output_type": "stream",
     "text": [
      "One\n",
      "two\n"
     ]
    }
   ],
   "source": [
    "# This is a comment\n",
    "print('One')          # This is a comment.\n",
    "  \n",
    "#printing two         # This is another comment.\n",
    "print('two')"
   ]
  },
  {
   "cell_type": "code",
   "execution_count": 17,
   "id": "f3c890da",
   "metadata": {},
   "outputs": [
    {
     "name": "stdout",
     "output_type": "stream",
     "text": [
      "Hello world\n"
     ]
    }
   ],
   "source": [
    "print(\"Hello world\" )     # Printing \"Hello World.\""
   ]
  },
  {
   "cell_type": "markdown",
   "id": "a6410c89",
   "metadata": {},
   "source": [
    "# = is not the same as =="
   ]
  },
  {
   "cell_type": "code",
   "execution_count": 18,
   "id": "b4c74b7a",
   "metadata": {},
   "outputs": [],
   "source": [
    "name = 'Batman' # Make name carry 'Batman'"
   ]
  },
  {
   "cell_type": "code",
   "execution_count": 19,
   "id": "dc086a40",
   "metadata": {},
   "outputs": [
    {
     "data": {
      "text/plain": [
       "True"
      ]
     },
     "execution_count": 19,
     "metadata": {},
     "output_type": "execute_result"
    }
   ],
   "source": [
    "name == 'Batman'#asks a question whether name is Batman"
   ]
  },
  {
   "cell_type": "markdown",
   "id": "573abb26",
   "metadata": {},
   "source": [
    "# Use if to make decisions"
   ]
  },
  {
   "cell_type": "code",
   "execution_count": 20,
   "id": "d004ba38",
   "metadata": {},
   "outputs": [
    {
     "name": "stdout",
     "output_type": "stream",
     "text": [
      "Hello Batman!\n"
     ]
    }
   ],
   "source": [
    "name = 'Batman'\n",
    "\n",
    "if name == 'Batman':\n",
    "    print('Hello Batman!')\n",
    "else:\n",
    "    print('Hello World!')"
   ]
  },
  {
   "cell_type": "markdown",
   "id": "eafe9749",
   "metadata": {},
   "source": [
    "# Indentations (spaces) are sooo IMPORTANT!"
   ]
  },
  {
   "cell_type": "code",
   "execution_count": 21,
   "id": "0b2908c3",
   "metadata": {},
   "outputs": [
    {
     "name": "stdout",
     "output_type": "stream",
     "text": [
      "10\n"
     ]
    }
   ],
   "source": [
    "x = 10\n",
    "print(x)"
   ]
  },
  {
   "cell_type": "code",
   "execution_count": 22,
   "id": "c69859a6",
   "metadata": {},
   "outputs": [
    {
     "ename": "IndentationError",
     "evalue": "unexpected indent (1537435392.py, line 2)",
     "output_type": "error",
     "traceback": [
      "\u001b[1;36m  Cell \u001b[1;32mIn[22], line 2\u001b[1;36m\u001b[0m\n\u001b[1;33m    print(x)\u001b[0m\n\u001b[1;37m    ^\u001b[0m\n\u001b[1;31mIndentationError\u001b[0m\u001b[1;31m:\u001b[0m unexpected indent\n"
     ]
    }
   ],
   "source": [
    "x = 10\n",
    " print(x)"
   ]
  },
  {
   "cell_type": "markdown",
   "id": "6eb5bb40",
   "metadata": {},
   "source": [
    "# ‘age’ is English, age is a variable."
   ]
  },
  {
   "cell_type": "code",
   "execution_count": 24,
   "id": "938a3f67",
   "metadata": {},
   "outputs": [
    {
     "name": "stdout",
     "output_type": "stream",
     "text": [
      "10\n",
      "age\n"
     ]
    }
   ],
   "source": [
    "age = 10\n",
    "print(age)       # Print the value of the variable age\n",
    "print(\"age\")     # Print the English word 'age'"
   ]
  },
  {
   "cell_type": "code",
   "execution_count": 25,
   "id": "568859d5",
   "metadata": {},
   "outputs": [
    {
     "name": "stdout",
     "output_type": "stream",
     "text": [
      "You're twenty years old.\n"
     ]
    }
   ],
   "source": [
    "print(\"You're twenty years old.\")"
   ]
  },
  {
   "cell_type": "markdown",
   "id": "6119284f",
   "metadata": {},
   "source": [
    "# Brackets"
   ]
  },
  {
   "cell_type": "markdown",
   "id": "b0127c65",
   "metadata": {},
   "source": [
    "**Example 1**"
   ]
  },
  {
   "cell_type": "code",
   "execution_count": 26,
   "id": "ba960b89",
   "metadata": {},
   "outputs": [
    {
     "name": "stdout",
     "output_type": "stream",
     "text": [
      "Hello!\n"
     ]
    }
   ],
   "source": [
    "print('Hello!')             # In functions"
   ]
  },
  {
   "cell_type": "markdown",
   "id": "445713f5",
   "metadata": {},
   "source": [
    "**Example 2**"
   ]
  },
  {
   "cell_type": "code",
   "execution_count": 27,
   "id": "2ab235c5",
   "metadata": {},
   "outputs": [
    {
     "data": {
      "text/plain": [
       "15"
      ]
     },
     "execution_count": 27,
     "metadata": {},
     "output_type": "execute_result"
    }
   ],
   "source": [
    "(1 + 2) * 5                 # For math"
   ]
  },
  {
   "cell_type": "markdown",
   "id": "b0efc0e8",
   "metadata": {},
   "source": [
    "**Example 3**"
   ]
  },
  {
   "cell_type": "code",
   "execution_count": 29,
   "id": "86f00b99",
   "metadata": {},
   "outputs": [],
   "source": [
    "py_list = [1, 2, 3, 4, 5]   # A 1D list\n",
    "\n",
    "py_list_2 = [               # A 2D list\n",
    "                [1, \"A\"],      \n",
    "                [2, \"B\"],\n",
    "                [3, \"C\"],\n",
    "                [4, \"D\"],\n",
    "                [5, \"E\"]\n",
    "            ]"
   ]
  },
  {
   "cell_type": "markdown",
   "id": "e8e12e52",
   "metadata": {},
   "source": [
    "**Example 4**"
   ]
  },
  {
   "cell_type": "code",
   "execution_count": 30,
   "id": "4217ef8a",
   "metadata": {},
   "outputs": [],
   "source": [
    "personal_info = {\n",
    "    'Names': 'Batman',\n",
    "    'Real Name': 'Bruce Wayne',\n",
    "    'Age': 55,\n",
    "    'Affiliation': 'Justice League',\n",
    "    'Universe': 'DC'\n",
    "}"
   ]
  },
  {
   "cell_type": "code",
   "execution_count": 31,
   "id": "e4a24ea7",
   "metadata": {},
   "outputs": [
    {
     "name": "stdout",
     "output_type": "stream",
     "text": [
      "Bruce Wayne\n"
     ]
    }
   ],
   "source": [
    "print(personal_info['Real Name'])    "
   ]
  },
  {
   "cell_type": "markdown",
   "id": "2f29bb3f",
   "metadata": {},
   "source": [
    "# Giving Python superpowers with Packages"
   ]
  },
  {
   "cell_type": "markdown",
   "id": "79c55f51",
   "metadata": {},
   "source": [
    "## Some Context"
   ]
  },
  {
   "cell_type": "code",
   "execution_count": 32,
   "id": "7150124c",
   "metadata": {},
   "outputs": [
    {
     "data": {
      "text/plain": [
       "40.5"
      ]
     },
     "execution_count": 32,
     "metadata": {},
     "output_type": "execute_result"
    }
   ],
   "source": [
    "1 * ((2 - 3) + 4) ** 5 / 6"
   ]
  },
  {
   "cell_type": "code",
   "execution_count": 33,
   "id": "a23548e9",
   "metadata": {},
   "outputs": [
    {
     "ename": "NameError",
     "evalue": "name 'sqrt' is not defined",
     "output_type": "error",
     "traceback": [
      "\u001b[1;31m---------------------------------------------------------------------------\u001b[0m",
      "\u001b[1;31mNameError\u001b[0m                                 Traceback (most recent call last)",
      "Cell \u001b[1;32mIn[33], line 1\u001b[0m\n\u001b[1;32m----> 1\u001b[0m \u001b[43msqrt\u001b[49m(\u001b[38;5;241m4\u001b[39m)\n",
      "\u001b[1;31mNameError\u001b[0m: name 'sqrt' is not defined"
     ]
    }
   ],
   "source": [
    "sqrt(4)"
   ]
  },
  {
   "cell_type": "markdown",
   "id": "afa3395e",
   "metadata": {},
   "source": [
    "## Importing the math package"
   ]
  },
  {
   "cell_type": "code",
   "execution_count": 36,
   "id": "b725799e",
   "metadata": {},
   "outputs": [
    {
     "data": {
      "text/plain": [
       "2.0"
      ]
     },
     "execution_count": 36,
     "metadata": {},
     "output_type": "execute_result"
    }
   ],
   "source": [
    "import math\n",
    "\n",
    "math.sqrt(4)"
   ]
  },
  {
   "cell_type": "markdown",
   "id": "df3902f8",
   "metadata": {},
   "source": [
    "## Importing the numpy package"
   ]
  },
  {
   "cell_type": "code",
   "execution_count": 38,
   "id": "1145e819",
   "metadata": {},
   "outputs": [
    {
     "data": {
      "text/plain": [
       "2.0"
      ]
     },
     "execution_count": 38,
     "metadata": {},
     "output_type": "execute_result"
    }
   ],
   "source": [
    "import numpy as np    # Importing Numpy and giving Numpy as np\n",
    "\n",
    "np.sqrt(4)"
   ]
  },
  {
   "cell_type": "markdown",
   "id": "26122cdd",
   "metadata": {},
   "source": [
    "## Why so many packages?"
   ]
  },
  {
   "cell_type": "code",
   "execution_count": 39,
   "id": "0297e636",
   "metadata": {},
   "outputs": [
    {
     "data": {
      "text/plain": [
       "array([2., 3., 4.])"
      ]
     },
     "execution_count": 39,
     "metadata": {},
     "output_type": "execute_result"
    }
   ],
   "source": [
    "np.sqrt([4, 9, 16])"
   ]
  },
  {
   "cell_type": "markdown",
   "id": "471131fb",
   "metadata": {},
   "source": [
    "# The dot (.)"
   ]
  },
  {
   "cell_type": "code",
   "execution_count": 40,
   "id": "378bb975",
   "metadata": {},
   "outputs": [
    {
     "data": {
      "text/plain": [
       "2.0"
      ]
     },
     "execution_count": 40,
     "metadata": {},
     "output_type": "execute_result"
    }
   ],
   "source": [
    "math.sqrt(4)\n",
    "np.sqrt(4)"
   ]
  },
  {
   "cell_type": "code",
   "execution_count": 2,
   "id": "c58edf85-245b-41a9-b730-8549c8fc3a64",
   "metadata": {},
   "outputs": [
    {
     "data": {
      "text/plain": [
       "2"
      ]
     },
     "execution_count": 2,
     "metadata": {},
     "output_type": "execute_result"
    }
   ],
   "source": [
    "import math\n",
    "round(math.sqrt(4))\n"
   ]
  },
  {
   "cell_type": "code",
   "execution_count": 6,
   "id": "674a2bcd-0a1c-4be8-9533-322d59e77d9b",
   "metadata": {},
   "outputs": [
    {
     "data": {
      "text/plain": [
       "'2.000'"
      ]
     },
     "execution_count": 6,
     "metadata": {},
     "output_type": "execute_result"
    }
   ],
   "source": [
    "import math\n",
    "f'{math.sqrt(4):.3f}'"
   ]
  },
  {
   "cell_type": "code",
   "execution_count": 41,
   "id": "1a10e844",
   "metadata": {},
   "outputs": [
    {
     "data": {
      "text/plain": [
       "['I', 'am', 'Batman']"
      ]
     },
     "execution_count": 41,
     "metadata": {},
     "output_type": "execute_result"
    }
   ],
   "source": [
    "\"I am Batman\".split()"
   ]
  },
  {
   "cell_type": "code",
   "execution_count": 42,
   "id": "afd94772",
   "metadata": {},
   "outputs": [
    {
     "ename": "SyntaxError",
     "evalue": "invalid decimal literal (949843569.py, line 1)",
     "output_type": "error",
     "traceback": [
      "\u001b[1;36m  Cell \u001b[1;32mIn[42], line 1\u001b[1;36m\u001b[0m\n\u001b[1;33m    2345.split()\u001b[0m\n\u001b[1;37m        ^\u001b[0m\n\u001b[1;31mSyntaxError\u001b[0m\u001b[1;31m:\u001b[0m invalid decimal literal\n"
     ]
    }
   ],
   "source": [
    "2345.split()"
   ]
  },
  {
   "cell_type": "code",
   "execution_count": 13,
   "id": "fe80a4d4-3cff-420a-9593-7305354e2e48",
   "metadata": {},
   "outputs": [
    {
     "data": {
      "text/plain": [
       "['2', '3', '4', '5']"
      ]
     },
     "execution_count": 13,
     "metadata": {},
     "output_type": "execute_result"
    }
   ],
   "source": [
    "x = str(2345)   # Convert 2345 into a string\n",
    "list(str(x))    # Use list function to create a list of the digits\n",
    "\n"
   ]
  }
 ],
 "metadata": {
  "kernelspec": {
   "display_name": "Python 3 (ipykernel)",
   "language": "python",
   "name": "python3"
  },
  "language_info": {
   "codemirror_mode": {
    "name": "ipython",
    "version": 3
   },
   "file_extension": ".py",
   "mimetype": "text/x-python",
   "name": "python",
   "nbconvert_exporter": "python",
   "pygments_lexer": "ipython3",
   "version": "3.11.5"
  },
  "toc": {
   "base_numbering": 1,
   "nav_menu": {},
   "number_sections": true,
   "sideBar": true,
   "skip_h1_title": false,
   "title_cell": "Table of Contents",
   "title_sidebar": "Contents",
   "toc_cell": false,
   "toc_position": {},
   "toc_section_display": true,
   "toc_window_display": false
  },
  "varInspector": {
   "cols": {
    "lenName": 16,
    "lenType": 16,
    "lenVar": 40
   },
   "kernels_config": {
    "python": {
     "delete_cmd_postfix": "",
     "delete_cmd_prefix": "del ",
     "library": "var_list.py",
     "varRefreshCmd": "print(var_dic_list())"
    },
    "r": {
     "delete_cmd_postfix": ") ",
     "delete_cmd_prefix": "rm(",
     "library": "var_list.r",
     "varRefreshCmd": "cat(var_dic_list()) "
    }
   },
   "types_to_exclude": [
    "module",
    "function",
    "builtin_function_or_method",
    "instance",
    "_Feature"
   ],
   "window_display": false
  },
  "vscode": {
   "interpreter": {
    "hash": "31f2aee4e71d21fbe5cf8b01ff0e069b9275f58929596ceb00d14d90e3e16cd6"
   }
  }
 },
 "nbformat": 4,
 "nbformat_minor": 5
}
