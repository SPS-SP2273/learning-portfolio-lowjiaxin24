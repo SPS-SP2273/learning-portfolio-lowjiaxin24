{
 "cells": [
  {
   "attachments": {},
   "cell_type": "markdown",
   "id": "123456",
   "metadata": {},
   "source": [
    "<div style=\"text-align:left;font-size:2em\"><span style=\"font-weight:bolder;font-size:1.25em\">SP2273 | Learning Portfolio</span><br><br><span style=\"font-weight:bold;color:darkred\">Using Jupyter (Need)</span></div>"
   ]
  },
  {
   "attachments": {},
   "cell_type": "markdown",
   "id": "098f0eda",
   "metadata": {
    "jp-MarkdownHeadingCollapsed": true
   },
   "source": [
    "# 1 What to expect in this chapter"
   ]
  },
  {
   "attachments": {},
   "cell_type": "markdown",
   "id": "85f67329",
   "metadata": {},
   "source": [
    "# 2 Getting ready"
   ]
  },
  {
   "attachments": {},
   "cell_type": "markdown",
   "id": "c23ed4f2",
   "metadata": {},
   "source": [
    "# 3 Getting started with Jupyter"
   ]
  },
  {
   "attachments": {},
   "cell_type": "markdown",
   "id": "73049dad",
   "metadata": {},
   "source": [
    "## 3.1 It is all about running cells"
   ]
  },
  {
   "cell_type": "code",
   "execution_count": 4,
   "id": "6505a6da-65b4-4b6d-b710-ae12210a1d36",
   "metadata": {},
   "outputs": [
    {
     "name": "stdout",
     "output_type": "stream",
     "text": [
      "6\n"
     ]
    }
   ],
   "source": [
    "a = 4\n",
    "b = 2\n",
    "c = a + b\n",
    "print(c)"
   ]
  },
  {
   "attachments": {},
   "cell_type": "markdown",
   "id": "582fd845",
   "metadata": {},
   "source": [
    "## 3.2 A traditional start"
   ]
  },
  {
   "cell_type": "code",
   "execution_count": 5,
   "id": "c0182e00-14b7-4bee-931d-7da1eb998a83",
   "metadata": {},
   "outputs": [
    {
     "name": "stdout",
     "output_type": "stream",
     "text": [
      "Hello World!\n"
     ]
    }
   ],
   "source": [
    "print('Hello World!')"
   ]
  },
  {
   "attachments": {},
   "cell_type": "markdown",
   "id": "4fe9a322",
   "metadata": {},
   "source": [
    "# 4 All about Markdown"
   ]
  },
  {
   "attachments": {},
   "cell_type": "markdown",
   "id": "092cdd09",
   "metadata": {},
   "source": [
    "## 4.1 Rendering Markdown cells"
   ]
  },
  {
   "cell_type": "markdown",
   "id": "71be5b32-233e-4706-bce9-22c554f98292",
   "metadata": {},
   "source": [
    "The ships hung in the sky in much the same way that bricks don’t."
   ]
  },
  {
   "attachments": {},
   "cell_type": "markdown",
   "id": "21b8c4aa",
   "metadata": {},
   "source": [
    "## 4.2 Some basic syntax"
   ]
  },
  {
   "cell_type": "markdown",
   "id": "9e329dca-b6e6-405d-97b6-e449cb80b9c2",
   "metadata": {},
   "source": [
    "The ships *hung in the sky* in much the same way that **bricks don’t.**<sup>1</sup><sub>QUOTE</sub> "
   ]
  },
  {
   "attachments": {},
   "cell_type": "markdown",
   "id": "f6304fa7",
   "metadata": {},
   "source": [
    "## 4.3 Headings"
   ]
  },
  {
   "cell_type": "markdown",
   "id": "f3e4ed97-74ea-451c-9900-ac57e8359a32",
   "metadata": {},
   "source": [
    "# The largest Heading\n",
    "## The Second-largest Heading\n",
    "### The Third-Largest Heading\n",
    "#### The Smallest Heading"
   ]
  },
  {
   "attachments": {},
   "cell_type": "markdown",
   "id": "fad655d9",
   "metadata": {},
   "source": [
    "## 4.4 Displaying Code"
   ]
  },
  {
   "cell_type": "markdown",
   "id": "e1ab582f-1694-4f6f-9bc4-dbbc748c2e28",
   "metadata": {},
   "source": [
    "`print('Hello World')`"
   ]
  },
  {
   "cell_type": "markdown",
   "id": "985726ef-9d91-4de5-81e6-0d791f8c9837",
   "metadata": {},
   "source": [
    "```python\n",
    "print('Hello World!')\n",
    "```\n"
   ]
  },
  {
   "attachments": {},
   "cell_type": "markdown",
   "id": "9b374369",
   "metadata": {},
   "source": [
    "## 4.5 Links"
   ]
  },
  {
   "cell_type": "markdown",
   "id": "aa25675b-52da-4658-a954-5cfa0ae8d709",
   "metadata": {},
   "source": [
    "[SP2273 Website](https://sps.nus.edu.sg/sp2273)"
   ]
  },
  {
   "attachments": {},
   "cell_type": "markdown",
   "id": "4f98ed09",
   "metadata": {},
   "source": [
    "## 4.6 Images"
   ]
  },
  {
   "cell_type": "markdown",
   "id": "35446671-fa0d-4c4b-9c16-900867d1a5ac",
   "metadata": {},
   "source": [
    "![](https://nus.edu.sg/images/default-source/base/logo.png)"
   ]
  },
  {
   "attachments": {},
   "cell_type": "markdown",
   "id": "a283a063",
   "metadata": {},
   "source": [
    "## 4.7 Tables"
   ]
  },
  {
   "cell_type": "markdown",
   "id": "41079d90-e405-41de-9fb2-f42445d1759c",
   "metadata": {},
   "source": [
    "| A    |  B   |    C |\n",
    "| :--- | :--: | ---: |\n",
    "| a1   |  b1  |   c1 |\n",
    "| a2   |  b2  |   c2 |\n",
    "| a3   |  b3  |   c3 |"
   ]
  },
  {
   "attachments": {},
   "cell_type": "markdown",
   "id": "6c89f6d5",
   "metadata": {},
   "source": [
    "## 4.8 Lists"
   ]
  },
  {
   "cell_type": "markdown",
   "id": "de49c0d0-00ce-483a-9249-4a35ab7efd7a",
   "metadata": {},
   "source": [
    "**Numbered**\n",
    "1. hello\n",
    "1. hello\n",
    "1. hello"
   ]
  },
  {
   "cell_type": "markdown",
   "id": "02761e68-85e7-49ab-bdea-7f3f39eb5628",
   "metadata": {},
   "source": [
    "**Unnumbered**\n",
    "- hello\n",
    "- hello\n",
    "- hello"
   ]
  },
  {
   "cell_type": "markdown",
   "id": "7af1b7fc-8a9e-4bdf-ac21-7add4004c9ed",
   "metadata": {},
   "source": [
    "**Numbered-numbered**\n",
    "1. hello\n",
    "   1. hello\n",
    "   1. hello\n",
    "1. hello\n",
    "   1. hello\n",
    "   1. hello\n",
    "1. hello\n",
    "   1. hello\n",
    "   1. hello"
   ]
  },
  {
   "cell_type": "markdown",
   "id": "244a3df7-8d67-4ec1-91bb-dad31f95adf2",
   "metadata": {},
   "source": [
    "**Numbered-unnumbered**\n",
    "1. hello\n",
    "   - hello\n",
    "   - hello\n",
    "1. hello\n",
    "   - hello\n",
    "   - hello\n",
    "1. hello\n",
    "   - hello\n",
    "   - hello"
   ]
  },
  {
   "attachments": {},
   "cell_type": "markdown",
   "id": "4a9f644b",
   "metadata": {},
   "source": [
    "## 4.9 Equations"
   ]
  },
  {
   "cell_type": "markdown",
   "id": "a831fceb-8aa0-4fa9-a8ff-bfe7f57c96ba",
   "metadata": {},
   "source": [
    "$\\sqrt{b^2-4ac}$"
   ]
  },
  {
   "cell_type": "markdown",
   "id": "43197c66-ad2e-4d22-bc1e-e9d1896ed941",
   "metadata": {},
   "source": [
    "$$\n",
    "x = \\dfrac{-b \\pm \\sqrt{b^2-4ac}}{2a}\n",
    "$$"
   ]
  },
  {
   "attachments": {},
   "cell_type": "markdown",
   "id": "0f2827c0",
   "metadata": {},
   "source": [
    "## Footnotes"
   ]
  }
 ],
 "metadata": {
  "kernelspec": {
   "display_name": "Python 3 (ipykernel)",
   "language": "python",
   "name": "python3"
  },
  "language_info": {
   "codemirror_mode": {
    "name": "ipython",
    "version": 3
   },
   "file_extension": ".py",
   "mimetype": "text/x-python",
   "name": "python",
   "nbconvert_exporter": "python",
   "pygments_lexer": "ipython3",
   "version": "3.11.5"
  },
  "toc": {
   "base_numbering": 1,
   "nav_menu": {},
   "number_sections": true,
   "sideBar": true,
   "skip_h1_title": false,
   "title_cell": "Table of Contents",
   "title_sidebar": "Contents",
   "toc_cell": false,
   "toc_position": {},
   "toc_section_display": true,
   "toc_window_display": false
  },
  "vscode": {
   "interpreter": {
    "hash": "31f2aee4e71d21fbe5cf8b01ff0e069b9275f58929596ceb00d14d90e3e16cd6"
   }
  }
 },
 "nbformat": 4,
 "nbformat_minor": 5
}
