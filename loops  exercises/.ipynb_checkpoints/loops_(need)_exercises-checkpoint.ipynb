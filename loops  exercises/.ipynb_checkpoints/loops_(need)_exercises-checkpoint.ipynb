{
 "cells": [
  {
   "attachments": {},
   "cell_type": "markdown",
   "id": "123456",
   "metadata": {},
   "source": [
    "<div style=\"text-align:left;font-size:2em\"><span style=\"font-weight:bolder;font-size:1.25em\">SP2273 | Learning Portfolio</span><br><br><span style=\"font-weight:bold;color:darkred\">Loops (Need) Exercises</span></div>"
   ]
  },
  {
   "cell_type": "markdown",
   "id": "08c72cc0-d710-42dc-819a-82d33b8e9b25",
   "metadata": {},
   "source": [
    "**Exercise 1**"
   ]
  },
  {
   "cell_type": "code",
   "execution_count": 4,
   "id": "5680a134-cd4a-4c98-8130-6abe0b3a0cc2",
   "metadata": {},
   "outputs": [
    {
     "name": "stdout",
     "output_type": "stream",
     "text": [
      "0 degree celsius is 32.0 degree fahrenheit\n",
      "5 degree celsius is 41.0 degree fahrenheit\n",
      "10 degree celsius is 50.0 degree fahrenheit\n",
      "15 degree celsius is 59.0 degree fahrenheit\n",
      "20 degree celsius is 68.0 degree fahrenheit\n",
      "25 degree celsius is 77.0 degree fahrenheit\n",
      "30 degree celsius is 86.0 degree fahrenheit\n",
      "35 degree celsius is 95.0 degree fahrenheit\n",
      "40 degree celsius is 104.0 degree fahrenheit\n",
      "45 degree celsius is 113.0 degree fahrenheit\n",
      "50 degree celsius is 122.0 degree fahrenheit\n"
     ]
    }
   ],
   "source": [
    "temperatures_celsius = [\n",
    "    0, 5, 10, 15, 20, 25,\n",
    "    30, 35, 40, 45, 50\n",
    "]\n",
    "\n",
    "for celsius in temperatures_celsius:\n",
    "    fahrenheit = (celsius* 9/5) + 32      # converting degree celsius to fahrenheit\n",
    "    print(f\"{celsius} degree celsius is {fahrenheit} degree fahrenheit\") "
   ]
  },
  {
   "cell_type": "markdown",
   "id": "0b151bf6-2169-4502-8a62-a7c199b6d712",
   "metadata": {},
   "source": [
    "**Exercise 2**"
   ]
  },
  {
   "cell_type": "code",
   "execution_count": null,
   "id": "9eaf1d2a-d282-44a7-b096-20ede5b06dbe",
   "metadata": {},
   "outputs": [],
   "source": [
    "for letter in ['A', 'B', 'C']:\n",
    "    for number in [1, 2, 3]:\n",
    "        print(f'{letter}{number}', end='\\t')  \n",
    "    print('\\n')"
   ]
  },
  {
   "cell_type": "code",
   "execution_count": 10,
   "id": "5fb69f6c-983a-4c5f-9106-a391481b01a6",
   "metadata": {},
   "outputs": [
    {
     "name": "stdout",
     "output_type": "stream",
     "text": [
      "1:\t1\t2\t3\t4\t5\t\n",
      "\n",
      "2:\t2\t4\t6\t8\t10\t\n",
      "\n",
      "3:\t3\t6\t9\t12\t15\t\n",
      "\n",
      "4:\t4\t8\t12\t16\t20\t\n",
      "\n",
      "5:\t5\t10\t15\t20\t25\t\n",
      "\n"
     ]
    }
   ],
   "source": [
    "factor1_number = [1,2,3,4,5]\n",
    "factor2_number = [1,2,3,4,5]\n",
    "for factor1 in factor1_number:          # To ensure that factor1 is printed once at the beginning of each line\n",
    "    print(f'{factor1}:', end='\\t')  \n",
    "    for factor2 in factor2_number:       # To print out the multiples of each factor1 in each line\n",
    "        multiplication = factor1*factor2\n",
    "        print(f'{multiplication}',end='\\t')\n",
    "    print('\\n')"
   ]
  }
 ],
 "metadata": {
  "kernelspec": {
   "display_name": "Python 3 (ipykernel)",
   "language": "python",
   "name": "python3"
  },
  "language_info": {
   "codemirror_mode": {
    "name": "ipython",
    "version": 3
   },
   "file_extension": ".py",
   "mimetype": "text/x-python",
   "name": "python",
   "nbconvert_exporter": "python",
   "pygments_lexer": "ipython3",
   "version": "3.11.5"
  },
  "toc": {
   "base_numbering": 1,
   "nav_menu": {},
   "number_sections": true,
   "sideBar": true,
   "skip_h1_title": false,
   "title_cell": "Table of Contents",
   "title_sidebar": "Contents",
   "toc_cell": false,
   "toc_position": {},
   "toc_section_display": true,
   "toc_window_display": false
  },
  "vscode": {
   "interpreter": {
    "hash": "31f2aee4e71d21fbe5cf8b01ff0e069b9275f58929596ceb00d14d90e3e16cd6"
   }
  }
 },
 "nbformat": 4,
 "nbformat_minor": 5
}
