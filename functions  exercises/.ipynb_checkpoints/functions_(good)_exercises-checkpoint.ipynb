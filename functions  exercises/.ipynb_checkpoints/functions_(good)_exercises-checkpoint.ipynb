{
 "cells": [
  {
   "attachments": {},
   "cell_type": "markdown",
   "id": "123456",
   "metadata": {},
   "source": [
    "<div style=\"text-align:left;font-size:2em\"><span style=\"font-weight:bolder;font-size:1.25em\">SP2273 | Learning Portfolio</span><br><br><span style=\"font-weight:bold;color:darkred\">Functions (Good) Exercises</span></div>"
   ]
  },
  {
   "cell_type": "markdown",
   "id": "69c4747e-7c7b-4a9c-b34c-d90125fca661",
   "metadata": {},
   "source": [
    "**Exercise 1**"
   ]
  },
  {
   "cell_type": "code",
   "execution_count": 20,
   "id": "46e7779e-376e-46a9-8c79-b2ecf419bbc5",
   "metadata": {},
   "outputs": [
    {
     "name": "stdin",
     "output_type": "stream",
     "text": [
      "Temperature(degree celsius): 75\n",
      "Kelvin or Fahrenheit: kelvin\n"
     ]
    },
    {
     "name": "stdout",
     "output_type": "stream",
     "text": [
      "Temperature degree Kelvin is 348.15\n"
     ]
    }
   ],
   "source": [
    "def convert_celsius(temperature_celsius, target_scale = 'Fahrenheit'):          # defining convert_celsius function with temperature_celsius and target_scale as the input variables, with target_scale set as 'fahrenheit' as default\n",
    "    \n",
    "    if target_scale == 'Kelvin' or target_scale =='kelvin':\n",
    "        temperature_kelvin = float(temperature_celsius) + 273.15\n",
    "        return f'Temperature degree Kelvin is {temperature_kelvin}'   # If kelvin is specified, temperature in degree celsius is converted to kelvin\n",
    "    else:\n",
    "        temperature_fahrenheit = (9/5 * float(temperature_celsius))+32       \n",
    "        return f'Temperature degree Fahrenheit is {temperature_fahrenheit}'  # Else, temperature in degree celsius is converted to fahrenheit\n",
    "                                                            \n",
    "        \n",
    "temperature_celsius = input('Temperature(degree celsius):')   # To input temperature in degree celsius\n",
    "target_scale = input('Kelvin or Fahrenheit:')                 # To input if kelvin or fahrenheit\n",
    "print(convert_celsius(temperature_celsius,target_scale))      # Print output of convert_celsius function\n",
    "    "
   ]
  },
  {
   "cell_type": "markdown",
   "id": "055c95bc-f7e1-4b0e-81b1-853e124a95f4",
   "metadata": {},
   "source": [
    "**Exercise 2**"
   ]
  },
  {
   "cell_type": "code",
   "execution_count": 22,
   "id": "383e8328-91d5-4d18-ab3b-b200bd2cf074",
   "metadata": {},
   "outputs": [
    {
     "name": "stdin",
     "output_type": "stream",
     "text": [
      "Temperature(degree Fahrenheit): 100\n",
      "Kelvin or Celsius: \n"
     ]
    },
    {
     "name": "stdout",
     "output_type": "stream",
     "text": [
      "Temperature degree Celsius is 37.77777777777778\n"
     ]
    }
   ],
   "source": [
    "def convert_fahrenheit(temperature_fahrenheit, target_scale = 'Celsius'):    # defining convert_fahrenheit function with temperature_fahrenheit and target_scale input variable, with target_scale being defaulted as degree celsius if degree kelvin is not selected\n",
    "    if target_scale == 'Kelvin'or target_scale == 'kelvin':\n",
    "        temperature_kelvin = (float(temperature_fahrenheit) - 32) * (5/9) + 273.15\n",
    "        return f'Temperature degree Kelvin is {temperature_kelvin}'         # If kelvin is specified, temperature in degree fahrenheit is converted to degree kelvin\n",
    "    else:\n",
    "        temperature_celsius = 5/9*(float(temperature_fahrenheit)-32)\n",
    "        return f'Temperature degree Celsius is {temperature_celsius}'      # Else, temperature in degree fahrenheit is converted to degree celsius\n",
    "        \n",
    "temperature_fahrenheit = input('Temperature(degree Fahrenheit):')  # To input temperature in degree fahrenheit\n",
    "target_scale = input('Kelvin or Celsius:')                         # To input if kelvin or celsius\n",
    "print(convert_fahrenheit(temperature_fahrenheit, target_scale))     #print output of convert_fahrenheit function"
   ]
  },
  {
   "cell_type": "markdown",
   "id": "0597d2a0-9d91-497e-ba8e-ca081d594056",
   "metadata": {},
   "source": [
    "**Exercise 3**"
   ]
  },
  {
   "cell_type": "code",
   "execution_count": 22,
   "id": "1c4a12d3-431d-4925-bfce-a8fa659a0303",
   "metadata": {},
   "outputs": [],
   "source": [
    "def convert_celsius(temperature_celsius, target_scale = 'Fahrenheit'):          # defining convert_celsius function with temperature_celsius and target_scale as the input variables, with target_scale set as 'fahrenheit' as default\n",
    "    \n",
    "    if target_scale == 'Kelvin' or target_scale =='kelvin':\n",
    "        temperature_kelvin = float(temperature_celsius) + 273.15\n",
    "        return f'Temperature degree Kelvin is {temperature_kelvin}'   # If kelvin is specified, temperature in degree celsius is converted to kelvin\n",
    "    else:\n",
    "        temperature_fahrenheit = (9/5 * float(temperature_celsius))+32       \n",
    "        return f'Temperature degree Fahrenheit is {temperature_fahrenheit}'  # Else, temperature in degree celsius is converted to fahrenheit\n"
   ]
  },
  {
   "cell_type": "code",
   "execution_count": 1,
   "id": "a152ac60-c8b4-478c-a18a-3356e925a14f",
   "metadata": {},
   "outputs": [],
   "source": [
    "def convert_fahrenheit(temperature_fahrenheit, target_scale = 'Celsius'):    # defining convert_fahrenheit function with temperature_fahrenheit and target_scale input variable, with target_scale being defaulted as degree celsius if degree kelvin is not selected\n",
    "    if target_scale == 'Kelvin'or target_scale == 'kelvin':\n",
    "        temperature_kelvin = (float(temperature_fahrenheit) - 32) * (5/9) + 273.15\n",
    "        return f'Temperature degree Kelvin is {temperature_kelvin}'         # If kelvin is specified, temperature in degree fahrenheit is converted to degree kelvin\n",
    "    else:\n",
    "        temperature_celsius = 5/9*(float(temperature_fahrenheit)-32)\n",
    "        return f'Temperature degree Celsius is {temperature_celsius}'      # Else, temperature in degree fahrenheit is converted to degree celsius\n",
    "        \n"
   ]
  },
  {
   "cell_type": "code",
   "execution_count": 27,
   "id": "78b8927a-2290-4628-b28b-355f3a87c158",
   "metadata": {},
   "outputs": [],
   "source": [
    "def convert_kelvin(temperature_kelvin, target_scale = 'Celsius'):          # defining convert_kelvin function with temperature_kelvin and target_scale as the input variables, with target_scale set as 'celsius' as default\n",
    "    if target_scale == 'Fahrenheit'or target_scale == 'fahrenheit':\n",
    "        temperature_fahrenheit = (float(temperature_kelvin) - 273.15) * 9/5 + 32\n",
    "        return f'Temperature degree Fahrenheit is {temperature_fahrenheit}'  # If fahrenheit is specified, temperature in degree kelvin is converted to degree fahrenheit \n",
    "    else:\n",
    "        temperature_celsius = float(temperature_kelvin) - 273.15\n",
    "        return f'Temperature degree Celsius is {temperature_celsius}'   # Else, temperature in degree kelvin is converted to degree celsius                           "
   ]
  },
  {
   "cell_type": "code",
   "execution_count": 28,
   "id": "2175128b-3ee2-4f2d-b622-a589dc32dff6",
   "metadata": {},
   "outputs": [
    {
     "name": "stdin",
     "output_type": "stream",
     "text": [
      "Temperature: 100\n",
      "Source scale: kelvin\n",
      "Target scale: \n"
     ]
    },
    {
     "name": "stdout",
     "output_type": "stream",
     "text": [
      "Temperature degree Celsius is -173.14999999999998\n"
     ]
    }
   ],
   "source": [
    "def convert_temperature(temperature, source_scale, target_scale): # defining convert_temperature function with temperature, source_scale and target_scale as the input variables\n",
    "    if source_scale == 'Celsius'or source_scale =='celsius':\n",
    "        return convert_celsius(temperature, target_scale)         # If celsius is specified, convert_celsius function is used\n",
    "    elif source_scale == 'Fahrenheit'or source_scale == 'fahrenheit':\n",
    "        return convert_fahrenheit(temperature, target_scale)      # If fahrenheit is specified, convert_fahrenheit function is used\n",
    "    elif source_scale == 'Kelvin'or source_scale == 'kelvin':\n",
    "        return convert_kelvin(temperature, target_scale)          # If kelvin is specified, convert_kelvin function is used\n",
    "    else:\n",
    "        return 'Please specify source scale.'                     # Else, prompt user to input valid source scale\n",
    "\n",
    "temperature = input('Temperature:')      # Prompt user to input temperature\n",
    "source_scale = input('Source scale:')    # Prompt user to input source scale\n",
    "target_scale = input('Target scale:')    # Prompt user to input target scale\n",
    "print(convert_temperature(temperature, source_scale, target_scale))  # print output of convert_temperature function"
   ]
  }
 ],
 "metadata": {
  "kernelspec": {
   "display_name": "Python 3 (ipykernel)",
   "language": "python",
   "name": "python3"
  },
  "language_info": {
   "codemirror_mode": {
    "name": "ipython",
    "version": 3
   },
   "file_extension": ".py",
   "mimetype": "text/x-python",
   "name": "python",
   "nbconvert_exporter": "python",
   "pygments_lexer": "ipython3",
   "version": "3.11.5"
  },
  "toc": {
   "base_numbering": 1,
   "nav_menu": {},
   "number_sections": true,
   "sideBar": true,
   "skip_h1_title": false,
   "title_cell": "Table of Contents",
   "title_sidebar": "Contents",
   "toc_cell": false,
   "toc_position": {},
   "toc_section_display": true,
   "toc_window_display": false
  },
  "vscode": {
   "interpreter": {
    "hash": "31f2aee4e71d21fbe5cf8b01ff0e069b9275f58929596ceb00d14d90e3e16cd6"
   }
  }
 },
 "nbformat": 4,
 "nbformat_minor": 5
}
