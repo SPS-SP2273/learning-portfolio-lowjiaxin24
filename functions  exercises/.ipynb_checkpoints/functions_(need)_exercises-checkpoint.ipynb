{
 "cells": [
  {
   "attachments": {},
   "cell_type": "markdown",
   "id": "123456",
   "metadata": {},
   "source": [
    "<div style=\"text-align:left;font-size:2em\"><span style=\"font-weight:bolder;font-size:1.25em\">SP2273 | Learning Portfolio</span><br><br><span style=\"font-weight:bold;color:darkred\">Functions (Need) Exercises</span></div>"
   ]
  },
  {
   "cell_type": "markdown",
   "id": "dc1bd05b-6f9d-4ca8-9c06-3ee46516db34",
   "metadata": {},
   "source": [
    "**Exercise 1**"
   ]
  },
  {
   "cell_type": "code",
   "execution_count": 1,
   "id": "c7d641cb-598b-44bc-bf04-9d712564d5e4",
   "metadata": {},
   "outputs": [],
   "source": [
    "def greeting(name):\n",
    "    if name == 'Batman':\n",
    "        return 'Hello Batman! So, nice to meet you!'\n",
    "    return f'Hello {name}!'"
   ]
  },
  {
   "cell_type": "markdown",
   "id": "bd1aacec-5041-487e-9c51-2cb95c5aad5b",
   "metadata": {},
   "source": [
    "A function greeting() is created such that if the variable 'name' is 'Batman', it will return 'Hello Batman! So, nice to meet you!'. However if the variable 'name' is not 'Batman', the function will proceed to the next line and returns 'Hello (name that was specified that is not Batman) ', which acts similarly to that of an else statement."
   ]
  },
  {
   "cell_type": "markdown",
   "id": "715f2acb-0927-4630-88a9-0c2f654863d8",
   "metadata": {},
   "source": [
    "**Exercise 2**"
   ]
  },
  {
   "cell_type": "code",
   "execution_count": 1,
   "id": "62d33edf-e751-4d3c-9cf2-c2cb6e5dde08",
   "metadata": {},
   "outputs": [],
   "source": [
    "def calculate_bmi(weight,height):   # define function calculate_bmi with input variables 'weight' and 'height'\n",
    "    bmi = weight / (height**2)      # equation to calculate BMI\n",
    "    if bmi >= 30:\n",
    "        return 'BMI category: Obesity'    # return BMI category: obesity if BMI >=30\n",
    "    elif 25<=bmi<=29.9:\n",
    "        return 'BMI category: Overweight' # return BMI category: overweight if BMI is between 25 and 29.9\n",
    "    elif 18.5<=bmi<=24.9:\n",
    "        return 'BMI category: Normal weight'  # return BMI category: normal weight if BMI is between 18.5 and 24.9\n",
    "    else:\n",
    "        return 'BMI category: Underweight'   # return BMI category: underweight if BMI is less than 18.5\n"
   ]
  },
  {
   "cell_type": "code",
   "execution_count": 2,
   "id": "3f8ae5fb-9e54-4db8-b912-9515ebd165e6",
   "metadata": {},
   "outputs": [
    {
     "data": {
      "text/plain": [
       "'BMI category: Overweight'"
      ]
     },
     "execution_count": 2,
     "metadata": {},
     "output_type": "execute_result"
    }
   ],
   "source": [
    "calculate_bmi(65,1.6)"
   ]
  },
  {
   "cell_type": "code",
   "execution_count": 3,
   "id": "91b0c90d-f0e9-4519-9918-ac8ffba88811",
   "metadata": {},
   "outputs": [
    {
     "data": {
      "text/plain": [
       "'BMI category: Underweight'"
      ]
     },
     "execution_count": 3,
     "metadata": {},
     "output_type": "execute_result"
    }
   ],
   "source": [
    "calculate_bmi(40,1.6)"
   ]
  }
 ],
 "metadata": {
  "kernelspec": {
   "display_name": "Python 3 (ipykernel)",
   "language": "python",
   "name": "python3"
  },
  "language_info": {
   "codemirror_mode": {
    "name": "ipython",
    "version": 3
   },
   "file_extension": ".py",
   "mimetype": "text/x-python",
   "name": "python",
   "nbconvert_exporter": "python",
   "pygments_lexer": "ipython3",
   "version": "3.11.5"
  },
  "toc": {
   "base_numbering": 1,
   "nav_menu": {},
   "number_sections": true,
   "sideBar": true,
   "skip_h1_title": false,
   "title_cell": "Table of Contents",
   "title_sidebar": "Contents",
   "toc_cell": false,
   "toc_position": {},
   "toc_section_display": true,
   "toc_window_display": false
  },
  "vscode": {
   "interpreter": {
    "hash": "31f2aee4e71d21fbe5cf8b01ff0e069b9275f58929596ceb00d14d90e3e16cd6"
   }
  }
 },
 "nbformat": 4,
 "nbformat_minor": 5
}
