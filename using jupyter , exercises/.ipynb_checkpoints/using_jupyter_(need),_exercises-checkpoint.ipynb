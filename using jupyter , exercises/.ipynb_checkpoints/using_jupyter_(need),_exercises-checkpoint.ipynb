{
 "cells": [
  {
   "cell_type": "markdown",
   "id": "123456",
   "metadata": {},
   "source": [
    "<div style=\"text-align:left;font-size:2em\"><span style=\"font-weight:bolder;font-size:1.25em\">SP2273 | Learning Portfolio</span><br><br><span style=\"font-weight:bold;color:darkred\">Using Jupyter (Need), Exercises</span></div>"
   ]
  },
  {
   "cell_type": "markdown",
   "id": "c254b916",
   "metadata": {},
   "source": [
    "**Exercise 1**"
   ]
  },
  {
   "cell_type": "markdown",
   "id": "824370c8",
   "metadata": {},
   "source": [
    "## Quadratic Equations"
   ]
  },
  {
   "cell_type": "markdown",
   "id": "76e1f809",
   "metadata": {},
   "source": [
    "### Introduction"
   ]
  },
  {
   "cell_type": "markdown",
   "id": "bdc6ec09",
   "metadata": {},
   "source": [
    "\n",
    "\n",
    "![](https://upload.wikimedia.org/wikipedia/commons/thumb/f/f8/Polynomialdeg2.svg/300px-Polynomialdeg2.svg.png)"
   ]
  },
  {
   "cell_type": "markdown",
   "id": "6e9b74cb",
   "metadata": {},
   "source": [
    "*(Image from the [Wikipedia page on Quadratic equations](https://en.wikipedia.org/wiki/Quadratic_equation))*"
   ]
  },
  {
   "cell_type": "markdown",
   "id": "40a818ce",
   "metadata": {},
   "source": [
    "The general form of a quadratic equation is:\n",
    "\n",
    "\n",
    "\n",
    "\n",
    "<center>$ax^2+bx+c=0$</center>"
   ]
  },
  {
   "cell_type": "markdown",
   "id": "bb0412dc",
   "metadata": {},
   "source": [
    "### Solutions"
   ]
  },
  {
   "cell_type": "markdown",
   "id": "a18352be",
   "metadata": {},
   "source": [
    "\n",
    "Provided $a \\ne 0$, we can use an elementary algebraic method called [completing the square](https://en.wikipedia.org/wiki/Completing_the_square) to show that a quadratic equation has the following solution:\n",
    "\n",
    "$$\n",
    "x = \\dfrac{-b \\pm \\sqrt{b^2-4ac}}{2a}\n",
    "$$\n",
    "\n"
   ]
  },
  {
   "cell_type": "markdown",
   "id": "ef4e446f",
   "metadata": {},
   "source": [
    "### Discriminant"
   ]
  },
  {
   "cell_type": "markdown",
   "id": "9c797995",
   "metadata": {},
   "source": [
    "The quantity $\\Delta = b^2-4ac$ is called the **discriminant** of the equation and decides the nature of its solution. The table below shows the various possibilities.\n"
   ]
  },
  {
   "cell_type": "markdown",
   "id": "7b1efb31",
   "metadata": {},
   "source": [
    "| **Discriminant**&emsp;&emsp;&emsp;&emsp;              | **Roots**                           |\n",
    "|:------------------------:|:------------------------------------|\n",
    "| $\\Delta = b^2-4ac=0$| A single solution of $-b/(2a)$      |\n",
    "| $\\Delta = b^2-4ac\\gt 0$| Two distinct solutions              |\n",
    "| $\\Delta = b^2-4ac\\lt 0$| No real solutions;both are complex. |"
   ]
  },
  {
   "cell_type": "markdown",
   "id": "357d7896",
   "metadata": {},
   "source": [
    "**Exercise 2**"
   ]
  },
  {
   "cell_type": "markdown",
   "id": "89b3f03b",
   "metadata": {},
   "source": [
    "1. What is a Git **repository**?\n",
    " \n",
    "A folder on the GitHub server that store necessary data that you want to save such as files and history.\n",
    " \n",
    "2. Git keeps tracks of ___ in the files in our repository.\n",
    "\n",
    "changes.\n",
    "   \n",
    "3. What is a **commit**?\n",
    "\n",
    "Commit enables users to track and record modifications in the file into their repository. It allows the users to selectively choose the changes they want to record and  input a description for the selected changes.\n",
    "\n",
    "4. What is a **push**?\n",
    "\n",
    "Push helps to transfer the changes that have been committed to main and made locally on the device  into the server or repository.\n",
    "\n",
    "5. What is a **pull**?\n",
    "\n",
    "Pull enables users to retrieve changes made to the file from the repository or server and updating these changes to the file in the local desktop.\n",
    "\n",
    "\n",
    "6. What is the difference between **GitHub** and **GitHub Desktop**?\n",
    "\n",
    "\n",
    "GitHub is an online server that allows users to store their files in a cloud server and collaborate with other users while GitHub Desktop helps to manage respository present in the local desktop."
   ]
  }
 ],
 "metadata": {
  "kernelspec": {
   "display_name": "Python 3 (ipykernel)",
   "language": "python",
   "name": "python3"
  },
  "language_info": {
   "codemirror_mode": {
    "name": "ipython",
    "version": 3
   },
   "file_extension": ".py",
   "mimetype": "text/x-python",
   "name": "python",
   "nbconvert_exporter": "python",
   "pygments_lexer": "ipython3",
   "version": "3.11.5"
  },
  "toc": {
   "base_numbering": 1,
   "nav_menu": {},
   "number_sections": true,
   "sideBar": true,
   "skip_h1_title": false,
   "title_cell": "Table of Contents",
   "title_sidebar": "Contents",
   "toc_cell": false,
   "toc_position": {},
   "toc_section_display": true,
   "toc_window_display": false
  },
  "varInspector": {
   "cols": {
    "lenName": 16,
    "lenType": 16,
    "lenVar": 40
   },
   "kernels_config": {
    "python": {
     "delete_cmd_postfix": "",
     "delete_cmd_prefix": "del ",
     "library": "var_list.py",
     "varRefreshCmd": "print(var_dic_list())"
    },
    "r": {
     "delete_cmd_postfix": ") ",
     "delete_cmd_prefix": "rm(",
     "library": "var_list.r",
     "varRefreshCmd": "cat(var_dic_list()) "
    }
   },
   "types_to_exclude": [
    "module",
    "function",
    "builtin_function_or_method",
    "instance",
    "_Feature"
   ],
   "window_display": false
  },
  "vscode": {
   "interpreter": {
    "hash": "31f2aee4e71d21fbe5cf8b01ff0e069b9275f58929596ceb00d14d90e3e16cd6"
   }
  }
 },
 "nbformat": 4,
 "nbformat_minor": 5
}
